{
 "cells": [
  {
   "cell_type": "code",
   "execution_count": 284,
   "metadata": {},
   "outputs": [],
   "source": [
    "import tensorflow as tf\n",
    "import numpy as np\n",
    "import pandas as pd\n",
    "from sklearn.datasets import make_regression\n",
    "from sklearn.metrics import mean_squared_error\n",
    "from tensorflow.keras.models import Sequential\n",
    "from tensorflow.keras.layers import Dense   \n",
    "from tensorflow.keras.models import load_model"
   ]
  },
  {
   "cell_type": "code",
   "execution_count": 285,
   "metadata": {},
   "outputs": [
    {
     "data": {
      "text/html": [
       "<div>\n",
       "<style scoped>\n",
       "    .dataframe tbody tr th:only-of-type {\n",
       "        vertical-align: middle;\n",
       "    }\n",
       "\n",
       "    .dataframe tbody tr th {\n",
       "        vertical-align: top;\n",
       "    }\n",
       "\n",
       "    .dataframe thead th {\n",
       "        text-align: right;\n",
       "    }\n",
       "</style>\n",
       "<table border=\"1\" class=\"dataframe\">\n",
       "  <thead>\n",
       "    <tr style=\"text-align: right;\">\n",
       "      <th></th>\n",
       "      <th>thu nhập</th>\n",
       "      <th>cố định</th>\n",
       "      <th>nhu cầu</th>\n",
       "      <th>giáo dục</th>\n",
       "      <th>thanh toán nợ</th>\n",
       "      <th>tiết kiệm</th>\n",
       "      <th>bản thân</th>\n",
       "      <th>a</th>\n",
       "      <th>b</th>\n",
       "      <th>c</th>\n",
       "      <th>d</th>\n",
       "      <th>e</th>\n",
       "      <th>f</th>\n",
       "    </tr>\n",
       "  </thead>\n",
       "  <tbody>\n",
       "    <tr>\n",
       "      <th>0</th>\n",
       "      <td>34200000</td>\n",
       "      <td>5100000</td>\n",
       "      <td>0</td>\n",
       "      <td>1</td>\n",
       "      <td>10400000</td>\n",
       "      <td>1</td>\n",
       "      <td>1</td>\n",
       "      <td>0.15</td>\n",
       "      <td>0.17</td>\n",
       "      <td>0.20</td>\n",
       "      <td>0.16</td>\n",
       "      <td>0.30</td>\n",
       "      <td>0.02</td>\n",
       "    </tr>\n",
       "    <tr>\n",
       "      <th>1</th>\n",
       "      <td>33100000</td>\n",
       "      <td>5000000</td>\n",
       "      <td>0</td>\n",
       "      <td>1</td>\n",
       "      <td>8800000</td>\n",
       "      <td>1</td>\n",
       "      <td>1</td>\n",
       "      <td>0.15</td>\n",
       "      <td>0.20</td>\n",
       "      <td>0.18</td>\n",
       "      <td>0.17</td>\n",
       "      <td>0.27</td>\n",
       "      <td>0.03</td>\n",
       "    </tr>\n",
       "    <tr>\n",
       "      <th>2</th>\n",
       "      <td>33800000</td>\n",
       "      <td>6300000</td>\n",
       "      <td>0</td>\n",
       "      <td>1</td>\n",
       "      <td>8100000</td>\n",
       "      <td>1</td>\n",
       "      <td>1</td>\n",
       "      <td>0.19</td>\n",
       "      <td>0.15</td>\n",
       "      <td>0.16</td>\n",
       "      <td>0.20</td>\n",
       "      <td>0.24</td>\n",
       "      <td>0.06</td>\n",
       "    </tr>\n",
       "    <tr>\n",
       "      <th>3</th>\n",
       "      <td>34700000</td>\n",
       "      <td>5900000</td>\n",
       "      <td>0</td>\n",
       "      <td>1</td>\n",
       "      <td>11800000</td>\n",
       "      <td>1</td>\n",
       "      <td>1</td>\n",
       "      <td>0.17</td>\n",
       "      <td>0.15</td>\n",
       "      <td>0.17</td>\n",
       "      <td>0.16</td>\n",
       "      <td>0.34</td>\n",
       "      <td>0.01</td>\n",
       "    </tr>\n",
       "    <tr>\n",
       "      <th>4</th>\n",
       "      <td>33700000</td>\n",
       "      <td>5600000</td>\n",
       "      <td>0</td>\n",
       "      <td>1</td>\n",
       "      <td>9200000</td>\n",
       "      <td>1</td>\n",
       "      <td>1</td>\n",
       "      <td>0.17</td>\n",
       "      <td>0.16</td>\n",
       "      <td>0.19</td>\n",
       "      <td>0.16</td>\n",
       "      <td>0.27</td>\n",
       "      <td>0.05</td>\n",
       "    </tr>\n",
       "    <tr>\n",
       "      <th>...</th>\n",
       "      <td>...</td>\n",
       "      <td>...</td>\n",
       "      <td>...</td>\n",
       "      <td>...</td>\n",
       "      <td>...</td>\n",
       "      <td>...</td>\n",
       "      <td>...</td>\n",
       "      <td>...</td>\n",
       "      <td>...</td>\n",
       "      <td>...</td>\n",
       "      <td>...</td>\n",
       "      <td>...</td>\n",
       "      <td>...</td>\n",
       "    </tr>\n",
       "    <tr>\n",
       "      <th>2745</th>\n",
       "      <td>18100000</td>\n",
       "      <td>10000000</td>\n",
       "      <td>2</td>\n",
       "      <td>1</td>\n",
       "      <td>2000000</td>\n",
       "      <td>0</td>\n",
       "      <td>1</td>\n",
       "      <td>0.55</td>\n",
       "      <td>0.07</td>\n",
       "      <td>0.11</td>\n",
       "      <td>0.13</td>\n",
       "      <td>0.12</td>\n",
       "      <td>0.02</td>\n",
       "    </tr>\n",
       "    <tr>\n",
       "      <th>2746</th>\n",
       "      <td>19700000</td>\n",
       "      <td>9700000</td>\n",
       "      <td>2</td>\n",
       "      <td>1</td>\n",
       "      <td>3000000</td>\n",
       "      <td>0</td>\n",
       "      <td>0</td>\n",
       "      <td>0.49</td>\n",
       "      <td>0.06</td>\n",
       "      <td>0.10</td>\n",
       "      <td>0.11</td>\n",
       "      <td>0.16</td>\n",
       "      <td>0.08</td>\n",
       "    </tr>\n",
       "    <tr>\n",
       "      <th>2747</th>\n",
       "      <td>18700000</td>\n",
       "      <td>10300000</td>\n",
       "      <td>2</td>\n",
       "      <td>0</td>\n",
       "      <td>3000000</td>\n",
       "      <td>0</td>\n",
       "      <td>0</td>\n",
       "      <td>0.55</td>\n",
       "      <td>0.06</td>\n",
       "      <td>0.11</td>\n",
       "      <td>0.08</td>\n",
       "      <td>0.16</td>\n",
       "      <td>0.04</td>\n",
       "    </tr>\n",
       "    <tr>\n",
       "      <th>2748</th>\n",
       "      <td>16900000</td>\n",
       "      <td>8900000</td>\n",
       "      <td>2</td>\n",
       "      <td>0</td>\n",
       "      <td>0</td>\n",
       "      <td>1</td>\n",
       "      <td>1</td>\n",
       "      <td>0.53</td>\n",
       "      <td>0.08</td>\n",
       "      <td>0.15</td>\n",
       "      <td>0.11</td>\n",
       "      <td>0.01</td>\n",
       "      <td>0.12</td>\n",
       "    </tr>\n",
       "    <tr>\n",
       "      <th>2749</th>\n",
       "      <td>17600000</td>\n",
       "      <td>8600000</td>\n",
       "      <td>2</td>\n",
       "      <td>1</td>\n",
       "      <td>3000000</td>\n",
       "      <td>0</td>\n",
       "      <td>0</td>\n",
       "      <td>0.49</td>\n",
       "      <td>0.05</td>\n",
       "      <td>0.12</td>\n",
       "      <td>0.11</td>\n",
       "      <td>0.17</td>\n",
       "      <td>0.06</td>\n",
       "    </tr>\n",
       "  </tbody>\n",
       "</table>\n",
       "<p>2750 rows × 13 columns</p>\n",
       "</div>"
      ],
      "text/plain": [
       "      thu nhập   cố định  nhu cầu  giáo dục  thanh toán nợ  tiết kiệm  \\\n",
       "0     34200000   5100000        0         1       10400000          1   \n",
       "1     33100000   5000000        0         1        8800000          1   \n",
       "2     33800000   6300000        0         1        8100000          1   \n",
       "3     34700000   5900000        0         1       11800000          1   \n",
       "4     33700000   5600000        0         1        9200000          1   \n",
       "...        ...       ...      ...       ...            ...        ...   \n",
       "2745  18100000  10000000        2         1        2000000          0   \n",
       "2746  19700000   9700000        2         1        3000000          0   \n",
       "2747  18700000  10300000        2         0        3000000          0   \n",
       "2748  16900000   8900000        2         0              0          1   \n",
       "2749  17600000   8600000        2         1        3000000          0   \n",
       "\n",
       "      bản thân     a     b     c     d     e     f  \n",
       "0            1  0.15  0.17  0.20  0.16  0.30  0.02  \n",
       "1            1  0.15  0.20  0.18  0.17  0.27  0.03  \n",
       "2            1  0.19  0.15  0.16  0.20  0.24  0.06  \n",
       "3            1  0.17  0.15  0.17  0.16  0.34  0.01  \n",
       "4            1  0.17  0.16  0.19  0.16  0.27  0.05  \n",
       "...        ...   ...   ...   ...   ...   ...   ...  \n",
       "2745         1  0.55  0.07  0.11  0.13  0.12  0.02  \n",
       "2746         0  0.49  0.06  0.10  0.11  0.16  0.08  \n",
       "2747         0  0.55  0.06  0.11  0.08  0.16  0.04  \n",
       "2748         1  0.53  0.08  0.15  0.11  0.01  0.12  \n",
       "2749         0  0.49  0.05  0.12  0.11  0.17  0.06  \n",
       "\n",
       "[2750 rows x 13 columns]"
      ]
     },
     "execution_count": 285,
     "metadata": {},
     "output_type": "execute_result"
    }
   ],
   "source": [
    "data = pd.read_csv(\"data.csv\")\n",
    "data"
   ]
  },
  {
   "cell_type": "code",
   "execution_count": 286,
   "metadata": {},
   "outputs": [
    {
     "data": {
      "text/plain": [
       "thu nhập         0\n",
       "cố định          0\n",
       "nhu cầu          0\n",
       "giáo dục         0\n",
       "thanh toán nợ    0\n",
       "tiết kiệm        0\n",
       "bản thân         0\n",
       "a                0\n",
       "b                0\n",
       "c                0\n",
       "d                0\n",
       "e                0\n",
       "f                0\n",
       "dtype: int64"
      ]
     },
     "execution_count": 286,
     "metadata": {},
     "output_type": "execute_result"
    }
   ],
   "source": [
    "data.isnull().sum()"
   ]
  },
  {
   "cell_type": "code",
   "execution_count": 287,
   "metadata": {},
   "outputs": [
    {
     "name": "stdout",
     "output_type": "stream",
     "text": [
      "[[3.42e+07 5.10e+06 0.00e+00 ... 1.04e+07 1.00e+00 1.00e+00]\n",
      " [3.31e+07 5.00e+06 0.00e+00 ... 8.80e+06 1.00e+00 1.00e+00]\n",
      " [3.38e+07 6.30e+06 0.00e+00 ... 8.10e+06 1.00e+00 1.00e+00]\n",
      " ...\n",
      " [1.87e+07 1.03e+07 2.00e+00 ... 3.00e+06 0.00e+00 0.00e+00]\n",
      " [1.69e+07 8.90e+06 2.00e+00 ... 0.00e+00 1.00e+00 1.00e+00]\n",
      " [1.76e+07 8.60e+06 2.00e+00 ... 3.00e+06 0.00e+00 0.00e+00]]\n",
      "[[0.15 0.17 0.2  0.16 0.3  0.02]\n",
      " [0.15 0.2  0.18 0.17 0.27 0.03]\n",
      " [0.19 0.15 0.16 0.2  0.24 0.06]\n",
      " ...\n",
      " [0.55 0.06 0.11 0.08 0.16 0.04]\n",
      " [0.53 0.08 0.15 0.11 0.01 0.12]\n",
      " [0.49 0.05 0.12 0.11 0.17 0.06]]\n"
     ]
    }
   ],
   "source": [
    "X = np.array(data)[:,0:7]\n",
    "Y = np.array(data)[:,7:13]\n",
    "print(X)\n",
    "print(Y)"
   ]
  },
  {
   "cell_type": "code",
   "execution_count": 288,
   "metadata": {},
   "outputs": [
    {
     "name": "stdout",
     "output_type": "stream",
     "text": [
      "X_train:  (2200, 7)\n",
      "X_test:  (550, 7)\n",
      "Y_train:  (2200, 6)\n",
      "Y_test:  (550, 6)\n"
     ]
    }
   ],
   "source": [
    "from sklearn.model_selection import train_test_split\n",
    "X_train, X_test, y_train, y_test = train_test_split(X, Y, test_size=0.2, random_state=42)\n",
    "print(\"X_train: \", X_train.shape)\n",
    "print(\"X_test: \", X_test.shape)\n",
    "print(\"Y_train: \",y_train.shape)\n",
    "print(\"Y_test: \", y_test.shape)\n"
   ]
  },
  {
   "cell_type": "code",
   "execution_count": 289,
   "metadata": {},
   "outputs": [
    {
     "name": "stdout",
     "output_type": "stream",
     "text": [
      "                      0             1         2         3             4  \\\n",
      "Mean       2.538458e+07  1.003402e+07  0.986818  0.516364  1.741864e+06   \n",
      "Median     2.536500e+07  9.400000e+06  1.000000  1.000000  1.000000e+06   \n",
      "Std Dev    8.728067e+06  3.323397e+06  0.822584  0.499732  2.476737e+06   \n",
      "Min Value  1.000000e+07  4.800000e+06  0.000000  0.000000  0.000000e+00   \n",
      "Max Value  4.000000e+07  2.190000e+07  2.000000  1.000000  1.400000e+07   \n",
      "\n",
      "                  5         6  \n",
      "Mean       0.534545  0.659545  \n",
      "Median     1.000000  1.000000  \n",
      "Std Dev    0.498805  0.473862  \n",
      "Min Value  0.000000  0.000000  \n",
      "Max Value  1.000000  1.000000  \n"
     ]
    }
   ],
   "source": [
    "# Tính các giá trị thống kê cơ bản\n",
    "mean = np.mean(X_train, axis=0)\n",
    "median = np.median(X_train, axis=0)\n",
    "std_dev = np.std(X_train, axis=0)\n",
    "min_val = np.min(X_train, axis=0)\n",
    "max_val = np.max(X_train, axis=0)\n",
    "\n",
    "# Tạo DataFrame từ các giá trị thống kê\n",
    "statics_df = pd.DataFrame({\n",
    "    'Mean': mean,\n",
    "    'Median': median,\n",
    "    'Std Dev': std_dev,\n",
    "    'Min Value': min_val,\n",
    "    'Max Value': max_val\n",
    "})\n",
    "\n",
    "# Xếp chúng thành các hàng của các cột\n",
    "statics_transpose = statics_df.transpose()\n",
    "\n",
    "# In DataFrame đã xếp\n",
    "print(statics_transpose)"
   ]
  },
  {
   "cell_type": "code",
   "execution_count": 290,
   "metadata": {},
   "outputs": [],
   "source": [
    "from sklearn.preprocessing import MinMaxScaler\n",
    "from sklearn.preprocessing import StandardScaler\n",
    "def ScalerData(data):\n",
    "    scaler = StandardScaler()\n",
    "    return scaler.fit_transform(data)"
   ]
  },
  {
   "cell_type": "code",
   "execution_count": 291,
   "metadata": {},
   "outputs": [
    {
     "name": "stdout",
     "output_type": "stream",
     "text": [
      "[[-1.00647506 -0.61202991 -1.19965644 ...  0.50798147  0.93313895\n",
      "   0.71846762]\n",
      " [-1.36165107 -1.09346506 -1.19965644 ... -0.2995327  -1.07165176\n",
      "  -1.39185117]\n",
      " [ 1.02146536 -0.49167112 -1.19965644 ... -0.70328979  0.93313895\n",
      "   0.71846762]\n",
      " ...\n",
      " [-0.18613306 -0.702299    0.01602489 ... -0.70328979  0.93313895\n",
      "   0.71846762]\n",
      " [-0.29383159 -1.03930361  1.23170622 ... -0.70328979 -1.07165176\n",
      "   0.71846762]\n",
      " [ 1.66307363  2.75801616  1.23170622 ...  0.6291086  -1.07165176\n",
      "   0.71846762]]\n",
      "[[-0.17381081  1.54061932  1.28287401 ... -0.28111274 -1.08347268\n",
      "  -1.3764944 ]\n",
      " [-0.30187436  0.08312789 -1.18851199 ... -0.28111274  0.92295821\n",
      "  -1.3764944 ]\n",
      " [-1.68728913 -1.50350835  1.28287401 ... -0.28111274 -1.08347268\n",
      "  -1.3764944 ]\n",
      " ...\n",
      " [ 1.09518255 -0.55029666  0.04718101 ...  0.07503355 -1.08347268\n",
      "   0.72648316]\n",
      " [ 1.38623607  0.0031811   0.04718101 ...  1.85576501  0.92295821\n",
      "   0.72648316]\n",
      " [ 0.3151591   1.1378105  -1.18851199 ...  0.16407012  0.92295821\n",
      "  -1.3764944 ]]\n"
     ]
    }
   ],
   "source": [
    "X_train = ScalerData(X_train)\n",
    "X_test = ScalerData(X_test)\n",
    "print(X_train)\n",
    "print(X_test)\n",
    "\n"
   ]
  },
  {
   "cell_type": "code",
   "execution_count": 292,
   "metadata": {},
   "outputs": [],
   "source": [
    "from keras.models import Sequential\n",
    "from keras.layers import Dense, Dropout\n",
    "\n",
    "def define_model():\n",
    "    model = Sequential()\n",
    "\n",
    "    # Tăng số lượng nơ-ron trong các lớp hiện có và thêm nhiều lớp ẩn hơn\n",
    "    model.add(Dense(16, input_dim=7, activation='relu'))\n",
    "    \n",
    "    model.add(Dense(8, activation='relu'))\n",
    "\n",
    "    model.add(Dense(8, activation='relu'))\n",
    "    \n",
    "    model.add(Dropout(0.1)) \n",
    "\n",
    "    model.add(Dense(6))  \n",
    "\n",
    "    # Compile mô hình\n",
    "    model.compile(optimizer='adam', loss='mean_squared_error')\n",
    "    return model"
   ]
  },
  {
   "cell_type": "code",
   "execution_count": 293,
   "metadata": {},
   "outputs": [],
   "source": [
    "import matplotlib.pyplot as plt\n",
    "\n",
    "def train_and_plot_loss():\n",
    "    model = define_model()\n",
    "    history = model.fit(X_train, y_train, epochs=100, batch_size=1, validation_split=0.2, verbose=1)\n",
    "    \n",
    "    # Lấy giá trị loss từ lịch sử huấn luyện\n",
    "    train_loss = history.history['loss']\n",
    "    val_loss = history.history['val_loss']\n",
    "    \n",
    "    # Vẽ biểu đồ loss của cả hai tập train và validation\n",
    "    epochs = range(1, len(train_loss) + 1)\n",
    "    plt.plot(epochs, train_loss, 'b', label='Training loss')  # Đường liên tục màu xanh\n",
    "    plt.plot(epochs, val_loss, 'r', label='Validation loss')  # Đường liên tục màu đỏ\n",
    "    plt.title('Training and validation loss')\n",
    "    plt.xlabel('Epochs')\n",
    "    plt.ylabel('Loss')\n",
    "    plt.legend()\n",
    "    plt.show()"
   ]
  },
  {
   "cell_type": "code",
   "execution_count": 294,
   "metadata": {},
   "outputs": [
    {
     "name": "stdout",
     "output_type": "stream",
     "text": [
      "Epoch 1/100\n"
     ]
    },
    {
     "name": "stderr",
     "output_type": "stream",
     "text": [
      "c:\\Users\\vuong\\AppData\\Local\\Programs\\Python\\Python312\\Lib\\site-packages\\keras\\src\\layers\\core\\dense.py:86: UserWarning: Do not pass an `input_shape`/`input_dim` argument to a layer. When using Sequential models, prefer using an `Input(shape)` object as the first layer in the model instead.\n",
      "  super().__init__(activity_regularizer=activity_regularizer, **kwargs)\n"
     ]
    },
    {
     "name": "stdout",
     "output_type": "stream",
     "text": [
      "\u001b[1m1760/1760\u001b[0m \u001b[32m━━━━━━━━━━━━━━━━━━━━\u001b[0m\u001b[37m\u001b[0m \u001b[1m3s\u001b[0m 765us/step - loss: 0.0197 - val_loss: 0.0026\n",
      "Epoch 2/100\n",
      "\u001b[1m1760/1760\u001b[0m \u001b[32m━━━━━━━━━━━━━━━━━━━━\u001b[0m\u001b[37m\u001b[0m \u001b[1m1s\u001b[0m 752us/step - loss: 0.0031 - val_loss: 0.0018\n",
      "Epoch 3/100\n",
      "\u001b[1m1760/1760\u001b[0m \u001b[32m━━━━━━━━━━━━━━━━━━━━\u001b[0m\u001b[37m\u001b[0m \u001b[1m1s\u001b[0m 746us/step - loss: 0.0022 - val_loss: 0.0013\n",
      "Epoch 4/100\n",
      "\u001b[1m1760/1760\u001b[0m \u001b[32m━━━━━━━━━━━━━━━━━━━━\u001b[0m\u001b[37m\u001b[0m \u001b[1m1s\u001b[0m 744us/step - loss: 0.0020 - val_loss: 0.0011\n",
      "Epoch 5/100\n",
      "\u001b[1m1760/1760\u001b[0m \u001b[32m━━━━━━━━━━━━━━━━━━━━\u001b[0m\u001b[37m\u001b[0m \u001b[1m1s\u001b[0m 750us/step - loss: 0.0018 - val_loss: 0.0011\n",
      "Epoch 6/100\n",
      "\u001b[1m1760/1760\u001b[0m \u001b[32m━━━━━━━━━━━━━━━━━━━━\u001b[0m\u001b[37m\u001b[0m \u001b[1m1s\u001b[0m 741us/step - loss: 0.0017 - val_loss: 0.0011\n",
      "Epoch 7/100\n",
      "\u001b[1m1760/1760\u001b[0m \u001b[32m━━━━━━━━━━━━━━━━━━━━\u001b[0m\u001b[37m\u001b[0m \u001b[1m1s\u001b[0m 750us/step - loss: 0.0016 - val_loss: 9.1019e-04\n",
      "Epoch 8/100\n",
      "\u001b[1m1760/1760\u001b[0m \u001b[32m━━━━━━━━━━━━━━━━━━━━\u001b[0m\u001b[37m\u001b[0m \u001b[1m1s\u001b[0m 735us/step - loss: 0.0016 - val_loss: 8.7010e-04\n",
      "Epoch 9/100\n",
      "\u001b[1m1760/1760\u001b[0m \u001b[32m━━━━━━━━━━━━━━━━━━━━\u001b[0m\u001b[37m\u001b[0m \u001b[1m1s\u001b[0m 743us/step - loss: 0.0015 - val_loss: 8.6283e-04\n",
      "Epoch 10/100\n",
      "\u001b[1m1760/1760\u001b[0m \u001b[32m━━━━━━━━━━━━━━━━━━━━\u001b[0m\u001b[37m\u001b[0m \u001b[1m1s\u001b[0m 749us/step - loss: 0.0015 - val_loss: 9.0397e-04\n",
      "Epoch 11/100\n",
      "\u001b[1m1760/1760\u001b[0m \u001b[32m━━━━━━━━━━━━━━━━━━━━\u001b[0m\u001b[37m\u001b[0m \u001b[1m1s\u001b[0m 741us/step - loss: 0.0015 - val_loss: 9.1457e-04\n",
      "Epoch 12/100\n",
      "\u001b[1m1760/1760\u001b[0m \u001b[32m━━━━━━━━━━━━━━━━━━━━\u001b[0m\u001b[37m\u001b[0m \u001b[1m1s\u001b[0m 744us/step - loss: 0.0015 - val_loss: 8.9145e-04\n",
      "Epoch 13/100\n",
      "\u001b[1m1760/1760\u001b[0m \u001b[32m━━━━━━━━━━━━━━━━━━━━\u001b[0m\u001b[37m\u001b[0m \u001b[1m1s\u001b[0m 727us/step - loss: 0.0014 - val_loss: 0.0011\n",
      "Epoch 14/100\n",
      "\u001b[1m1760/1760\u001b[0m \u001b[32m━━━━━━━━━━━━━━━━━━━━\u001b[0m\u001b[37m\u001b[0m \u001b[1m1s\u001b[0m 735us/step - loss: 0.0015 - val_loss: 8.5916e-04\n",
      "Epoch 15/100\n",
      "\u001b[1m1760/1760\u001b[0m \u001b[32m━━━━━━━━━━━━━━━━━━━━\u001b[0m\u001b[37m\u001b[0m \u001b[1m1s\u001b[0m 751us/step - loss: 0.0015 - val_loss: 8.7352e-04\n",
      "Epoch 16/100\n",
      "\u001b[1m1760/1760\u001b[0m \u001b[32m━━━━━━━━━━━━━━━━━━━━\u001b[0m\u001b[37m\u001b[0m \u001b[1m1s\u001b[0m 736us/step - loss: 0.0014 - val_loss: 9.2871e-04\n",
      "Epoch 17/100\n",
      "\u001b[1m1760/1760\u001b[0m \u001b[32m━━━━━━━━━━━━━━━━━━━━\u001b[0m\u001b[37m\u001b[0m \u001b[1m1s\u001b[0m 747us/step - loss: 0.0015 - val_loss: 8.3491e-04\n",
      "Epoch 18/100\n",
      "\u001b[1m1760/1760\u001b[0m \u001b[32m━━━━━━━━━━━━━━━━━━━━\u001b[0m\u001b[37m\u001b[0m \u001b[1m1s\u001b[0m 733us/step - loss: 0.0014 - val_loss: 8.2545e-04\n",
      "Epoch 19/100\n",
      "\u001b[1m1760/1760\u001b[0m \u001b[32m━━━━━━━━━━━━━━━━━━━━\u001b[0m\u001b[37m\u001b[0m \u001b[1m1s\u001b[0m 739us/step - loss: 0.0013 - val_loss: 7.9109e-04\n",
      "Epoch 20/100\n",
      "\u001b[1m1760/1760\u001b[0m \u001b[32m━━━━━━━━━━━━━━━━━━━━\u001b[0m\u001b[37m\u001b[0m \u001b[1m1s\u001b[0m 735us/step - loss: 0.0014 - val_loss: 8.5409e-04\n",
      "Epoch 21/100\n",
      "\u001b[1m1760/1760\u001b[0m \u001b[32m━━━━━━━━━━━━━━━━━━━━\u001b[0m\u001b[37m\u001b[0m \u001b[1m1s\u001b[0m 744us/step - loss: 0.0015 - val_loss: 8.0743e-04\n",
      "Epoch 22/100\n",
      "\u001b[1m1760/1760\u001b[0m \u001b[32m━━━━━━━━━━━━━━━━━━━━\u001b[0m\u001b[37m\u001b[0m \u001b[1m1s\u001b[0m 737us/step - loss: 0.0015 - val_loss: 9.1167e-04\n",
      "Epoch 23/100\n",
      "\u001b[1m1760/1760\u001b[0m \u001b[32m━━━━━━━━━━━━━━━━━━━━\u001b[0m\u001b[37m\u001b[0m \u001b[1m1s\u001b[0m 745us/step - loss: 0.0015 - val_loss: 7.9978e-04\n",
      "Epoch 24/100\n",
      "\u001b[1m1760/1760\u001b[0m \u001b[32m━━━━━━━━━━━━━━━━━━━━\u001b[0m\u001b[37m\u001b[0m \u001b[1m1s\u001b[0m 725us/step - loss: 0.0015 - val_loss: 7.2732e-04\n",
      "Epoch 25/100\n",
      "\u001b[1m1760/1760\u001b[0m \u001b[32m━━━━━━━━━━━━━━━━━━━━\u001b[0m\u001b[37m\u001b[0m \u001b[1m1s\u001b[0m 754us/step - loss: 0.0014 - val_loss: 7.2886e-04\n",
      "Epoch 26/100\n",
      "\u001b[1m1760/1760\u001b[0m \u001b[32m━━━━━━━━━━━━━━━━━━━━\u001b[0m\u001b[37m\u001b[0m \u001b[1m1s\u001b[0m 729us/step - loss: 0.0014 - val_loss: 8.3487e-04\n",
      "Epoch 27/100\n",
      "\u001b[1m1760/1760\u001b[0m \u001b[32m━━━━━━━━━━━━━━━━━━━━\u001b[0m\u001b[37m\u001b[0m \u001b[1m1s\u001b[0m 748us/step - loss: 0.0014 - val_loss: 8.4308e-04\n",
      "Epoch 28/100\n",
      "\u001b[1m1760/1760\u001b[0m \u001b[32m━━━━━━━━━━━━━━━━━━━━\u001b[0m\u001b[37m\u001b[0m \u001b[1m1s\u001b[0m 726us/step - loss: 0.0014 - val_loss: 7.9273e-04\n",
      "Epoch 29/100\n",
      "\u001b[1m1760/1760\u001b[0m \u001b[32m━━━━━━━━━━━━━━━━━━━━\u001b[0m\u001b[37m\u001b[0m \u001b[1m1s\u001b[0m 744us/step - loss: 0.0013 - val_loss: 7.7152e-04\n",
      "Epoch 30/100\n",
      "\u001b[1m1760/1760\u001b[0m \u001b[32m━━━━━━━━━━━━━━━━━━━━\u001b[0m\u001b[37m\u001b[0m \u001b[1m1s\u001b[0m 741us/step - loss: 0.0013 - val_loss: 7.6819e-04\n",
      "Epoch 31/100\n",
      "\u001b[1m1760/1760\u001b[0m \u001b[32m━━━━━━━━━━━━━━━━━━━━\u001b[0m\u001b[37m\u001b[0m \u001b[1m1s\u001b[0m 736us/step - loss: 0.0013 - val_loss: 7.8659e-04\n",
      "Epoch 32/100\n",
      "\u001b[1m1760/1760\u001b[0m \u001b[32m━━━━━━━━━━━━━━━━━━━━\u001b[0m\u001b[37m\u001b[0m \u001b[1m1s\u001b[0m 750us/step - loss: 0.0013 - val_loss: 8.8010e-04\n",
      "Epoch 33/100\n",
      "\u001b[1m1760/1760\u001b[0m \u001b[32m━━━━━━━━━━━━━━━━━━━━\u001b[0m\u001b[37m\u001b[0m \u001b[1m1s\u001b[0m 741us/step - loss: 0.0014 - val_loss: 7.9803e-04\n",
      "Epoch 34/100\n",
      "\u001b[1m1760/1760\u001b[0m \u001b[32m━━━━━━━━━━━━━━━━━━━━\u001b[0m\u001b[37m\u001b[0m \u001b[1m1s\u001b[0m 737us/step - loss: 0.0013 - val_loss: 8.1210e-04\n",
      "Epoch 35/100\n",
      "\u001b[1m1760/1760\u001b[0m \u001b[32m━━━━━━━━━━━━━━━━━━━━\u001b[0m\u001b[37m\u001b[0m \u001b[1m1s\u001b[0m 752us/step - loss: 0.0014 - val_loss: 7.4092e-04\n",
      "Epoch 36/100\n",
      "\u001b[1m1760/1760\u001b[0m \u001b[32m━━━━━━━━━━━━━━━━━━━━\u001b[0m\u001b[37m\u001b[0m \u001b[1m1s\u001b[0m 710us/step - loss: 0.0012 - val_loss: 7.8946e-04\n",
      "Epoch 37/100\n",
      "\u001b[1m1760/1760\u001b[0m \u001b[32m━━━━━━━━━━━━━━━━━━━━\u001b[0m\u001b[37m\u001b[0m \u001b[1m1s\u001b[0m 756us/step - loss: 0.0013 - val_loss: 8.5562e-04\n",
      "Epoch 38/100\n",
      "\u001b[1m1760/1760\u001b[0m \u001b[32m━━━━━━━━━━━━━━━━━━━━\u001b[0m\u001b[37m\u001b[0m \u001b[1m1s\u001b[0m 730us/step - loss: 0.0013 - val_loss: 8.1034e-04\n",
      "Epoch 39/100\n",
      "\u001b[1m1760/1760\u001b[0m \u001b[32m━━━━━━━━━━━━━━━━━━━━\u001b[0m\u001b[37m\u001b[0m \u001b[1m1s\u001b[0m 755us/step - loss: 0.0014 - val_loss: 8.2774e-04\n",
      "Epoch 40/100\n",
      "\u001b[1m1760/1760\u001b[0m \u001b[32m━━━━━━━━━━━━━━━━━━━━\u001b[0m\u001b[37m\u001b[0m \u001b[1m1s\u001b[0m 738us/step - loss: 0.0015 - val_loss: 7.2856e-04\n",
      "Epoch 41/100\n",
      "\u001b[1m1760/1760\u001b[0m \u001b[32m━━━━━━━━━━━━━━━━━━━━\u001b[0m\u001b[37m\u001b[0m \u001b[1m1s\u001b[0m 748us/step - loss: 0.0013 - val_loss: 7.5600e-04\n",
      "Epoch 42/100\n",
      "\u001b[1m1760/1760\u001b[0m \u001b[32m━━━━━━━━━━━━━━━━━━━━\u001b[0m\u001b[37m\u001b[0m \u001b[1m1s\u001b[0m 731us/step - loss: 0.0013 - val_loss: 7.7666e-04\n",
      "Epoch 43/100\n",
      "\u001b[1m1760/1760\u001b[0m \u001b[32m━━━━━━━━━━━━━━━━━━━━\u001b[0m\u001b[37m\u001b[0m \u001b[1m1s\u001b[0m 743us/step - loss: 0.0013 - val_loss: 7.6193e-04\n",
      "Epoch 44/100\n",
      "\u001b[1m1760/1760\u001b[0m \u001b[32m━━━━━━━━━━━━━━━━━━━━\u001b[0m\u001b[37m\u001b[0m \u001b[1m1s\u001b[0m 740us/step - loss: 0.0015 - val_loss: 7.1988e-04\n",
      "Epoch 45/100\n",
      "\u001b[1m1760/1760\u001b[0m \u001b[32m━━━━━━━━━━━━━━━━━━━━\u001b[0m\u001b[37m\u001b[0m \u001b[1m1s\u001b[0m 750us/step - loss: 0.0013 - val_loss: 7.6365e-04\n",
      "Epoch 46/100\n",
      "\u001b[1m1760/1760\u001b[0m \u001b[32m━━━━━━━━━━━━━━━━━━━━\u001b[0m\u001b[37m\u001b[0m \u001b[1m1s\u001b[0m 734us/step - loss: 0.0013 - val_loss: 7.3270e-04\n",
      "Epoch 47/100\n",
      "\u001b[1m1760/1760\u001b[0m \u001b[32m━━━━━━━━━━━━━━━━━━━━\u001b[0m\u001b[37m\u001b[0m \u001b[1m1s\u001b[0m 748us/step - loss: 0.0012 - val_loss: 7.0600e-04\n",
      "Epoch 48/100\n",
      "\u001b[1m1760/1760\u001b[0m \u001b[32m━━━━━━━━━━━━━━━━━━━━\u001b[0m\u001b[37m\u001b[0m \u001b[1m1s\u001b[0m 735us/step - loss: 0.0014 - val_loss: 7.4928e-04\n",
      "Epoch 49/100\n",
      "\u001b[1m1760/1760\u001b[0m \u001b[32m━━━━━━━━━━━━━━━━━━━━\u001b[0m\u001b[37m\u001b[0m \u001b[1m1s\u001b[0m 744us/step - loss: 0.0013 - val_loss: 7.7621e-04\n",
      "Epoch 50/100\n",
      "\u001b[1m1760/1760\u001b[0m \u001b[32m━━━━━━━━━━━━━━━━━━━━\u001b[0m\u001b[37m\u001b[0m \u001b[1m1s\u001b[0m 727us/step - loss: 0.0013 - val_loss: 7.3925e-04\n",
      "Epoch 51/100\n",
      "\u001b[1m1760/1760\u001b[0m \u001b[32m━━━━━━━━━━━━━━━━━━━━\u001b[0m\u001b[37m\u001b[0m \u001b[1m1s\u001b[0m 755us/step - loss: 0.0013 - val_loss: 7.1133e-04\n",
      "Epoch 52/100\n",
      "\u001b[1m1760/1760\u001b[0m \u001b[32m━━━━━━━━━━━━━━━━━━━━\u001b[0m\u001b[37m\u001b[0m \u001b[1m1s\u001b[0m 747us/step - loss: 0.0013 - val_loss: 7.5205e-04\n",
      "Epoch 53/100\n",
      "\u001b[1m1760/1760\u001b[0m \u001b[32m━━━━━━━━━━━━━━━━━━━━\u001b[0m\u001b[37m\u001b[0m \u001b[1m1s\u001b[0m 741us/step - loss: 0.0014 - val_loss: 7.8762e-04\n",
      "Epoch 54/100\n",
      "\u001b[1m1760/1760\u001b[0m \u001b[32m━━━━━━━━━━━━━━━━━━━━\u001b[0m\u001b[37m\u001b[0m \u001b[1m1s\u001b[0m 723us/step - loss: 0.0013 - val_loss: 7.4756e-04\n",
      "Epoch 55/100\n",
      "\u001b[1m1760/1760\u001b[0m \u001b[32m━━━━━━━━━━━━━━━━━━━━\u001b[0m\u001b[37m\u001b[0m \u001b[1m1s\u001b[0m 745us/step - loss: 0.0012 - val_loss: 7.7758e-04\n",
      "Epoch 56/100\n",
      "\u001b[1m1760/1760\u001b[0m \u001b[32m━━━━━━━━━━━━━━━━━━━━\u001b[0m\u001b[37m\u001b[0m \u001b[1m1s\u001b[0m 723us/step - loss: 0.0013 - val_loss: 6.9884e-04\n",
      "Epoch 57/100\n",
      "\u001b[1m1760/1760\u001b[0m \u001b[32m━━━━━━━━━━━━━━━━━━━━\u001b[0m\u001b[37m\u001b[0m \u001b[1m1s\u001b[0m 752us/step - loss: 0.0014 - val_loss: 8.2942e-04\n",
      "Epoch 58/100\n",
      "\u001b[1m1760/1760\u001b[0m \u001b[32m━━━━━━━━━━━━━━━━━━━━\u001b[0m\u001b[37m\u001b[0m \u001b[1m1s\u001b[0m 737us/step - loss: 0.0013 - val_loss: 7.4800e-04\n",
      "Epoch 59/100\n",
      "\u001b[1m1760/1760\u001b[0m \u001b[32m━━━━━━━━━━━━━━━━━━━━\u001b[0m\u001b[37m\u001b[0m \u001b[1m1s\u001b[0m 750us/step - loss: 0.0013 - val_loss: 7.6860e-04\n",
      "Epoch 60/100\n",
      "\u001b[1m1760/1760\u001b[0m \u001b[32m━━━━━━━━━━━━━━━━━━━━\u001b[0m\u001b[37m\u001b[0m \u001b[1m1s\u001b[0m 720us/step - loss: 0.0014 - val_loss: 7.0666e-04\n",
      "Epoch 61/100\n",
      "\u001b[1m1760/1760\u001b[0m \u001b[32m━━━━━━━━━━━━━━━━━━━━\u001b[0m\u001b[37m\u001b[0m \u001b[1m1s\u001b[0m 749us/step - loss: 0.0015 - val_loss: 7.6630e-04\n",
      "Epoch 62/100\n",
      "\u001b[1m1760/1760\u001b[0m \u001b[32m━━━━━━━━━━━━━━━━━━━━\u001b[0m\u001b[37m\u001b[0m \u001b[1m1s\u001b[0m 722us/step - loss: 0.0013 - val_loss: 7.3875e-04\n",
      "Epoch 63/100\n",
      "\u001b[1m1760/1760\u001b[0m \u001b[32m━━━━━━━━━━━━━━━━━━━━\u001b[0m\u001b[37m\u001b[0m \u001b[1m1s\u001b[0m 757us/step - loss: 0.0014 - val_loss: 7.9723e-04\n",
      "Epoch 64/100\n",
      "\u001b[1m1760/1760\u001b[0m \u001b[32m━━━━━━━━━━━━━━━━━━━━\u001b[0m\u001b[37m\u001b[0m \u001b[1m1s\u001b[0m 735us/step - loss: 0.0013 - val_loss: 8.1106e-04\n",
      "Epoch 65/100\n",
      "\u001b[1m1760/1760\u001b[0m \u001b[32m━━━━━━━━━━━━━━━━━━━━\u001b[0m\u001b[37m\u001b[0m \u001b[1m1s\u001b[0m 752us/step - loss: 0.0013 - val_loss: 7.2268e-04\n",
      "Epoch 66/100\n",
      "\u001b[1m1760/1760\u001b[0m \u001b[32m━━━━━━━━━━━━━━━━━━━━\u001b[0m\u001b[37m\u001b[0m \u001b[1m1s\u001b[0m 731us/step - loss: 0.0013 - val_loss: 8.0963e-04\n",
      "Epoch 67/100\n",
      "\u001b[1m1760/1760\u001b[0m \u001b[32m━━━━━━━━━━━━━━━━━━━━\u001b[0m\u001b[37m\u001b[0m \u001b[1m1s\u001b[0m 755us/step - loss: 0.0013 - val_loss: 7.5867e-04\n",
      "Epoch 68/100\n",
      "\u001b[1m1760/1760\u001b[0m \u001b[32m━━━━━━━━━━━━━━━━━━━━\u001b[0m\u001b[37m\u001b[0m \u001b[1m1s\u001b[0m 741us/step - loss: 0.0012 - val_loss: 7.7929e-04\n",
      "Epoch 69/100\n",
      "\u001b[1m1760/1760\u001b[0m \u001b[32m━━━━━━━━━━━━━━━━━━━━\u001b[0m\u001b[37m\u001b[0m \u001b[1m1s\u001b[0m 767us/step - loss: 0.0013 - val_loss: 7.4780e-04\n",
      "Epoch 70/100\n",
      "\u001b[1m1760/1760\u001b[0m \u001b[32m━━━━━━━━━━━━━━━━━━━━\u001b[0m\u001b[37m\u001b[0m \u001b[1m1s\u001b[0m 747us/step - loss: 0.0013 - val_loss: 8.1220e-04\n",
      "Epoch 71/100\n",
      "\u001b[1m1760/1760\u001b[0m \u001b[32m━━━━━━━━━━━━━━━━━━━━\u001b[0m\u001b[37m\u001b[0m \u001b[1m1s\u001b[0m 769us/step - loss: 0.0014 - val_loss: 7.5265e-04\n",
      "Epoch 72/100\n",
      "\u001b[1m1760/1760\u001b[0m \u001b[32m━━━━━━━━━━━━━━━━━━━━\u001b[0m\u001b[37m\u001b[0m \u001b[1m1s\u001b[0m 727us/step - loss: 0.0012 - val_loss: 8.0376e-04\n",
      "Epoch 73/100\n",
      "\u001b[1m1760/1760\u001b[0m \u001b[32m━━━━━━━━━━━━━━━━━━━━\u001b[0m\u001b[37m\u001b[0m \u001b[1m1s\u001b[0m 748us/step - loss: 0.0014 - val_loss: 8.6704e-04\n",
      "Epoch 74/100\n",
      "\u001b[1m1760/1760\u001b[0m \u001b[32m━━━━━━━━━━━━━━━━━━━━\u001b[0m\u001b[37m\u001b[0m \u001b[1m1s\u001b[0m 730us/step - loss: 0.0013 - val_loss: 7.2539e-04\n",
      "Epoch 75/100\n",
      "\u001b[1m1760/1760\u001b[0m \u001b[32m━━━━━━━━━━━━━━━━━━━━\u001b[0m\u001b[37m\u001b[0m \u001b[1m1s\u001b[0m 763us/step - loss: 0.0014 - val_loss: 7.4943e-04\n",
      "Epoch 76/100\n",
      "\u001b[1m1760/1760\u001b[0m \u001b[32m━━━━━━━━━━━━━━━━━━━━\u001b[0m\u001b[37m\u001b[0m \u001b[1m1s\u001b[0m 728us/step - loss: 0.0014 - val_loss: 7.7223e-04\n",
      "Epoch 77/100\n",
      "\u001b[1m1760/1760\u001b[0m \u001b[32m━━━━━━━━━━━━━━━━━━━━\u001b[0m\u001b[37m\u001b[0m \u001b[1m1s\u001b[0m 740us/step - loss: 0.0014 - val_loss: 7.9360e-04\n",
      "Epoch 78/100\n",
      "\u001b[1m1760/1760\u001b[0m \u001b[32m━━━━━━━━━━━━━━━━━━━━\u001b[0m\u001b[37m\u001b[0m \u001b[1m1s\u001b[0m 737us/step - loss: 0.0013 - val_loss: 7.0688e-04\n",
      "Epoch 79/100\n",
      "\u001b[1m1760/1760\u001b[0m \u001b[32m━━━━━━━━━━━━━━━━━━━━\u001b[0m\u001b[37m\u001b[0m \u001b[1m1s\u001b[0m 749us/step - loss: 0.0012 - val_loss: 7.9605e-04\n",
      "Epoch 80/100\n",
      "\u001b[1m1760/1760\u001b[0m \u001b[32m━━━━━━━━━━━━━━━━━━━━\u001b[0m\u001b[37m\u001b[0m \u001b[1m1s\u001b[0m 721us/step - loss: 0.0014 - val_loss: 7.1408e-04\n",
      "Epoch 81/100\n",
      "\u001b[1m1760/1760\u001b[0m \u001b[32m━━━━━━━━━━━━━━━━━━━━\u001b[0m\u001b[37m\u001b[0m \u001b[1m1s\u001b[0m 753us/step - loss: 0.0014 - val_loss: 7.4163e-04\n",
      "Epoch 82/100\n",
      "\u001b[1m1760/1760\u001b[0m \u001b[32m━━━━━━━━━━━━━━━━━━━━\u001b[0m\u001b[37m\u001b[0m \u001b[1m1s\u001b[0m 725us/step - loss: 0.0013 - val_loss: 6.9267e-04\n",
      "Epoch 83/100\n",
      "\u001b[1m1760/1760\u001b[0m \u001b[32m━━━━━━━━━━━━━━━━━━━━\u001b[0m\u001b[37m\u001b[0m \u001b[1m1s\u001b[0m 743us/step - loss: 0.0014 - val_loss: 7.8199e-04\n",
      "Epoch 84/100\n",
      "\u001b[1m1760/1760\u001b[0m \u001b[32m━━━━━━━━━━━━━━━━━━━━\u001b[0m\u001b[37m\u001b[0m \u001b[1m1s\u001b[0m 732us/step - loss: 0.0013 - val_loss: 7.3457e-04\n",
      "Epoch 85/100\n",
      "\u001b[1m1760/1760\u001b[0m \u001b[32m━━━━━━━━━━━━━━━━━━━━\u001b[0m\u001b[37m\u001b[0m \u001b[1m1s\u001b[0m 782us/step - loss: 0.0013 - val_loss: 7.1845e-04\n",
      "Epoch 86/100\n",
      "\u001b[1m1760/1760\u001b[0m \u001b[32m━━━━━━━━━━━━━━━━━━━━\u001b[0m\u001b[37m\u001b[0m \u001b[1m1s\u001b[0m 716us/step - loss: 0.0014 - val_loss: 7.5530e-04\n",
      "Epoch 87/100\n",
      "\u001b[1m1760/1760\u001b[0m \u001b[32m━━━━━━━━━━━━━━━━━━━━\u001b[0m\u001b[37m\u001b[0m \u001b[1m1s\u001b[0m 744us/step - loss: 0.0013 - val_loss: 7.3658e-04\n",
      "Epoch 88/100\n",
      "\u001b[1m1760/1760\u001b[0m \u001b[32m━━━━━━━━━━━━━━━━━━━━\u001b[0m\u001b[37m\u001b[0m \u001b[1m1s\u001b[0m 738us/step - loss: 0.0014 - val_loss: 7.5620e-04\n",
      "Epoch 89/100\n",
      "\u001b[1m1760/1760\u001b[0m \u001b[32m━━━━━━━━━━━━━━━━━━━━\u001b[0m\u001b[37m\u001b[0m \u001b[1m1s\u001b[0m 746us/step - loss: 0.0014 - val_loss: 7.1970e-04\n",
      "Epoch 90/100\n",
      "\u001b[1m1760/1760\u001b[0m \u001b[32m━━━━━━━━━━━━━━━━━━━━\u001b[0m\u001b[37m\u001b[0m \u001b[1m1s\u001b[0m 738us/step - loss: 0.0013 - val_loss: 7.2572e-04\n",
      "Epoch 91/100\n",
      "\u001b[1m1760/1760\u001b[0m \u001b[32m━━━━━━━━━━━━━━━━━━━━\u001b[0m\u001b[37m\u001b[0m \u001b[1m1s\u001b[0m 748us/step - loss: 0.0013 - val_loss: 7.0364e-04\n",
      "Epoch 92/100\n",
      "\u001b[1m1760/1760\u001b[0m \u001b[32m━━━━━━━━━━━━━━━━━━━━\u001b[0m\u001b[37m\u001b[0m \u001b[1m1s\u001b[0m 722us/step - loss: 0.0013 - val_loss: 6.7853e-04\n",
      "Epoch 93/100\n",
      "\u001b[1m1760/1760\u001b[0m \u001b[32m━━━━━━━━━━━━━━━━━━━━\u001b[0m\u001b[37m\u001b[0m \u001b[1m1s\u001b[0m 748us/step - loss: 0.0013 - val_loss: 7.0034e-04\n",
      "Epoch 94/100\n",
      "\u001b[1m1760/1760\u001b[0m \u001b[32m━━━━━━━━━━━━━━━━━━━━\u001b[0m\u001b[37m\u001b[0m \u001b[1m1s\u001b[0m 737us/step - loss: 0.0013 - val_loss: 7.0713e-04\n",
      "Epoch 95/100\n",
      "\u001b[1m1760/1760\u001b[0m \u001b[32m━━━━━━━━━━━━━━━━━━━━\u001b[0m\u001b[37m\u001b[0m \u001b[1m1s\u001b[0m 751us/step - loss: 0.0013 - val_loss: 7.0741e-04\n",
      "Epoch 96/100\n",
      "\u001b[1m1760/1760\u001b[0m \u001b[32m━━━━━━━━━━━━━━━━━━━━\u001b[0m\u001b[37m\u001b[0m \u001b[1m1s\u001b[0m 730us/step - loss: 0.0012 - val_loss: 7.8913e-04\n",
      "Epoch 97/100\n",
      "\u001b[1m1760/1760\u001b[0m \u001b[32m━━━━━━━━━━━━━━━━━━━━\u001b[0m\u001b[37m\u001b[0m \u001b[1m1s\u001b[0m 760us/step - loss: 0.0013 - val_loss: 7.5033e-04\n",
      "Epoch 98/100\n",
      "\u001b[1m1760/1760\u001b[0m \u001b[32m━━━━━━━━━━━━━━━━━━━━\u001b[0m\u001b[37m\u001b[0m \u001b[1m1s\u001b[0m 707us/step - loss: 0.0014 - val_loss: 7.2759e-04\n",
      "Epoch 99/100\n",
      "\u001b[1m1760/1760\u001b[0m \u001b[32m━━━━━━━━━━━━━━━━━━━━\u001b[0m\u001b[37m\u001b[0m \u001b[1m1s\u001b[0m 748us/step - loss: 0.0013 - val_loss: 7.0785e-04\n",
      "Epoch 100/100\n",
      "\u001b[1m1760/1760\u001b[0m \u001b[32m━━━━━━━━━━━━━━━━━━━━\u001b[0m\u001b[37m\u001b[0m \u001b[1m1s\u001b[0m 738us/step - loss: 0.0012 - val_loss: 7.2556e-04\n"
     ]
    },
    {
     "data": {
      "image/png": "[encoded data removed]",
      "text/plain": [
       "<Figure size 640x480 with 1 Axes>"
      ]
     },
     "metadata": {},
     "output_type": "display_data"
    }
   ],
   "source": [
    "train_and_plot_loss()"
   ]
  },
  {
   "cell_type": "code",
   "execution_count": 295,
   "metadata": {},
   "outputs": [
    {
     "name": "stderr",
     "output_type": "stream",
     "text": [
      "WARNING:absl:Compiled the loaded model, but the compiled metrics have yet to be built. `model.compile_metrics` will be empty until you train or evaluate the model.\n"
     ]
    },
    {
     "name": "stdout",
     "output_type": "stream",
     "text": [
      "Y_test_true: 0  [0.63 0.02 0.14 0.14 0.04 0.03]\n",
      "\u001b[1m1/1\u001b[0m \u001b[32m━━━━━━━━━━━━━━━━━━━━\u001b[0m\u001b[37m\u001b[0m \u001b[1m0s\u001b[0m 38ms/step\n"
     ]
    },
    {
     "name": "stderr",
     "output_type": "stream",
     "text": [
      "WARNING:absl:Compiled the loaded model, but the compiled metrics have yet to be built. `model.compile_metrics` will be empty until you train or evaluate the model.\n"
     ]
    },
    {
     "name": "stdout",
     "output_type": "stream",
     "text": [
      "Y_test_predict: 0  [[0.5875159  0.04637407 0.13112143 0.1313449  0.04368125 0.06043345]]\n",
      "Y_test_true: 1  [0.45 0.32 0.04 0.07 0.04 0.08]\n",
      "\u001b[1m1/1\u001b[0m \u001b[32m━━━━━━━━━━━━━━━━━━━━\u001b[0m\u001b[37m\u001b[0m \u001b[1m0s\u001b[0m 37ms/step\n"
     ]
    },
    {
     "name": "stderr",
     "output_type": "stream",
     "text": [
      "WARNING:absl:Compiled the loaded model, but the compiled metrics have yet to be built. `model.compile_metrics` will be empty until you train or evaluate the model.\n"
     ]
    },
    {
     "name": "stdout",
     "output_type": "stream",
     "text": [
      "Y_test_predict: 1  [[0.4409149  0.3395984  0.05713104 0.07174116 0.02673718 0.06242983]]\n",
      "Y_test_true: 2  [0.47 0.06 0.08 0.16 0.1  0.13]\n",
      "\u001b[1m1/1\u001b[0m \u001b[32m━━━━━━━━━━━━━━━━━━━━\u001b[0m\u001b[37m\u001b[0m \u001b[1m0s\u001b[0m 36ms/step\n",
      "Y_test_predict: 2  [[0.51355195 0.07777248 0.11354931 0.12185746 0.11063074 0.06255578]]\n"
     ]
    },
    {
     "name": "stderr",
     "output_type": "stream",
     "text": [
      "WARNING:absl:Compiled the loaded model, but the compiled metrics have yet to be built. `model.compile_metrics` will be empty until you train or evaluate the model.\n"
     ]
    },
    {
     "name": "stdout",
     "output_type": "stream",
     "text": [
      "Y_test_true: 3  [0.51 0.06 0.11 0.09 0.16 0.07]\n",
      "\u001b[1m1/1\u001b[0m \u001b[32m━━━━━━━━━━━━━━━━━━━━\u001b[0m\u001b[37m\u001b[0m \u001b[1m0s\u001b[0m 37ms/step\n"
     ]
    },
    {
     "name": "stderr",
     "output_type": "stream",
     "text": [
      "WARNING:absl:Compiled the loaded model, but the compiled metrics have yet to be built. `model.compile_metrics` will be empty until you train or evaluate the model.\n"
     ]
    },
    {
     "name": "stdout",
     "output_type": "stream",
     "text": [
      "Y_test_predict: 3  [[0.5057132  0.06564067 0.10409171 0.11202861 0.15863505 0.05386768]]\n",
      "Y_test_true: 4  [0.26 0.25 0.16 0.17 0.15 0.01]\n",
      "\u001b[1m1/1\u001b[0m \u001b[32m━━━━━━━━━━━━━━━━━━━━\u001b[0m\u001b[37m\u001b[0m \u001b[1m0s\u001b[0m 40ms/step\n"
     ]
    },
    {
     "name": "stderr",
     "output_type": "stream",
     "text": [
      "WARNING:absl:Compiled the loaded model, but the compiled metrics have yet to be built. `model.compile_metrics` will be empty until you train or evaluate the model.\n"
     ]
    },
    {
     "name": "stdout",
     "output_type": "stream",
     "text": [
      "Y_test_predict: 4  [[0.2773303  0.16129568 0.18789339 0.1804524  0.1456544  0.04572037]]\n",
      "Y_test_true: 5  [0.3  0.1  0.16 0.16 0.2  0.08]\n",
      "\u001b[1m1/1\u001b[0m \u001b[32m━━━━━━━━━━━━━━━━━━━━\u001b[0m\u001b[37m\u001b[0m \u001b[1m0s\u001b[0m 37ms/step\n"
     ]
    },
    {
     "name": "stderr",
     "output_type": "stream",
     "text": [
      "WARNING:absl:Compiled the loaded model, but the compiled metrics have yet to be built. `model.compile_metrics` will be empty until you train or evaluate the model.\n"
     ]
    },
    {
     "name": "stdout",
     "output_type": "stream",
     "text": [
      "Y_test_predict: 5  [[0.34062058 0.06090255 0.1717128  0.1746269  0.19418648 0.05616583]]\n",
      "Y_test_true: 6  [0.34 0.17 0.23 0.17 0.   0.09]\n",
      "\u001b[1m1/1\u001b[0m \u001b[32m━━━━━━━━━━━━━━━━━━━━\u001b[0m\u001b[37m\u001b[0m \u001b[1m0s\u001b[0m 38ms/step\n"
     ]
    },
    {
     "name": "stderr",
     "output_type": "stream",
     "text": [
      "WARNING:absl:Compiled the loaded model, but the compiled metrics have yet to be built. `model.compile_metrics` will be empty until you train or evaluate the model.\n"
     ]
    },
    {
     "name": "stdout",
     "output_type": "stream",
     "text": [
      "Y_test_predict: 6  [[0.36540657 0.1585902  0.20254847 0.20142953 0.01749031 0.0537997 ]]\n",
      "Y_test_true: 7  [0.5  0.26 0.09 0.09 0.   0.06]\n",
      "\u001b[1m1/1\u001b[0m \u001b[32m━━━━━━━━━━━━━━━━━━━━\u001b[0m\u001b[37m\u001b[0m \u001b[1m0s\u001b[0m 37ms/step\n"
     ]
    },
    {
     "name": "stderr",
     "output_type": "stream",
     "text": [
      "WARNING:absl:Compiled the loaded model, but the compiled metrics have yet to be built. `model.compile_metrics` will be empty until you train or evaluate the model.\n"
     ]
    },
    {
     "name": "stdout",
     "output_type": "stream",
     "text": [
      "Y_test_predict: 7  [[0.48773256 0.25002405 0.07324285 0.08868168 0.03134421 0.0679246 ]]\n",
      "Y_test_true: 8  [0.27 0.29 0.22 0.19 0.   0.03]\n",
      "\u001b[1m1/1\u001b[0m \u001b[32m━━━━━━━━━━━━━━━━━━━━\u001b[0m\u001b[37m\u001b[0m \u001b[1m0s\u001b[0m 36ms/step\n"
     ]
    },
    {
     "name": "stderr",
     "output_type": "stream",
     "text": [
      "WARNING:absl:Compiled the loaded model, but the compiled metrics have yet to be built. `model.compile_metrics` will be empty until you train or evaluate the model.\n"
     ]
    },
    {
     "name": "stdout",
     "output_type": "stream",
     "text": [
      "Y_test_predict: 8  [[0.29309478 0.25053224 0.20060864 0.19273204 0.01766212 0.04408305]]\n",
      "Y_test_true: 9  [0.3  0.07 0.18 0.2  0.19 0.06]\n",
      "\u001b[1m1/1\u001b[0m \u001b[32m━━━━━━━━━━━━━━━━━━━━\u001b[0m\u001b[37m\u001b[0m \u001b[1m0s\u001b[0m 37ms/step\n",
      "Y_test_predict: 9  [[0.3377846  0.06006192 0.18750483 0.18910313 0.16823438 0.05565857]]\n"
     ]
    }
   ],
   "source": [
    "import sys\n",
    "import os\n",
    "for i in range(0, 10):\n",
    "    model = load_model(\"final_model.h5\")\n",
    "    X_test_sample = np.expand_dims(X_test[i], axis=0)\n",
    "    print(\"Y_test_true: \" + str(i) + \" \", y_test[i])\n",
    "    print(\"Y_test_predict: \" + str(i) + \" \", model.predict(X_test_sample))\n"
   ]
  }
 ],
 "metadata": {
  "kernelspec": {
   "display_name": "gpu_onion",
   "language": "python",
   "name": "python3"
  },
  "language_info": {
   "codemirror_mode": {
    "name": "ipython",
    "version": 3
   },
   "file_extension": ".py",
   "mimetype": "text/x-python",
   "name": "python",
   "nbconvert_exporter": "python",
   "pygments_lexer": "ipython3",
   "version": "3.12.3"
  }
 },
 "nbformat": 4,
 "nbformat_minor": 2
}
