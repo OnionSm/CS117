{
 "cells": [
  {
   "cell_type": "code",
   "execution_count": 62,
   "metadata": {},
   "outputs": [],
   "source": [
    "import tensorflow as tf\n",
    "import numpy as np\n",
    "import pandas as pd\n",
    "from sklearn.datasets import make_regression\n",
    "from sklearn.metrics import mean_squared_error\n",
    "from tensorflow.keras.models import Sequential\n",
    "from tensorflow.keras.layers import Dense   \n",
    "from tensorflow.keras.models import load_model"
   ]
  },
  {
   "cell_type": "code",
   "execution_count": 63,
   "metadata": {},
   "outputs": [
    {
     "data": {
      "text/html": [
       "<div>\n",
       "<style scoped>\n",
       "    .dataframe tbody tr th:only-of-type {\n",
       "        vertical-align: middle;\n",
       "    }\n",
       "\n",
       "    .dataframe tbody tr th {\n",
       "        vertical-align: top;\n",
       "    }\n",
       "\n",
       "    .dataframe thead th {\n",
       "        text-align: right;\n",
       "    }\n",
       "</style>\n",
       "<table border=\"1\" class=\"dataframe\">\n",
       "  <thead>\n",
       "    <tr style=\"text-align: right;\">\n",
       "      <th></th>\n",
       "      <th>thu nhập</th>\n",
       "      <th>cố định</th>\n",
       "      <th>nhu cầu</th>\n",
       "      <th>giáo dục</th>\n",
       "      <th>thanh toán nợ</th>\n",
       "      <th>tiết kiệm</th>\n",
       "      <th>bản thân</th>\n",
       "      <th>a</th>\n",
       "      <th>b</th>\n",
       "      <th>c</th>\n",
       "      <th>d</th>\n",
       "      <th>e</th>\n",
       "      <th>f</th>\n",
       "    </tr>\n",
       "  </thead>\n",
       "  <tbody>\n",
       "    <tr>\n",
       "      <th>0</th>\n",
       "      <td>31100000</td>\n",
       "      <td>7600000</td>\n",
       "      <td>0</td>\n",
       "      <td>0</td>\n",
       "      <td>2500000</td>\n",
       "      <td>1</td>\n",
       "      <td>1</td>\n",
       "      <td>0.244373</td>\n",
       "      <td>0.167837</td>\n",
       "      <td>0.258189</td>\n",
       "      <td>0.185919</td>\n",
       "      <td>0.080386</td>\n",
       "      <td>0.063296</td>\n",
       "    </tr>\n",
       "    <tr>\n",
       "      <th>1</th>\n",
       "      <td>32800000</td>\n",
       "      <td>13100000</td>\n",
       "      <td>0</td>\n",
       "      <td>0</td>\n",
       "      <td>0</td>\n",
       "      <td>1</td>\n",
       "      <td>0</td>\n",
       "      <td>0.399390</td>\n",
       "      <td>0.178209</td>\n",
       "      <td>0.200063</td>\n",
       "      <td>0.192749</td>\n",
       "      <td>0.000000</td>\n",
       "      <td>0.029588</td>\n",
       "    </tr>\n",
       "    <tr>\n",
       "      <th>2</th>\n",
       "      <td>33000000</td>\n",
       "      <td>11200000</td>\n",
       "      <td>0</td>\n",
       "      <td>1</td>\n",
       "      <td>0</td>\n",
       "      <td>1</td>\n",
       "      <td>1</td>\n",
       "      <td>0.339394</td>\n",
       "      <td>0.147579</td>\n",
       "      <td>0.246960</td>\n",
       "      <td>0.170593</td>\n",
       "      <td>0.000000</td>\n",
       "      <td>0.095475</td>\n",
       "    </tr>\n",
       "    <tr>\n",
       "      <th>3</th>\n",
       "      <td>34000000</td>\n",
       "      <td>10400000</td>\n",
       "      <td>0</td>\n",
       "      <td>1</td>\n",
       "      <td>1400000</td>\n",
       "      <td>1</td>\n",
       "      <td>1</td>\n",
       "      <td>0.305882</td>\n",
       "      <td>0.196455</td>\n",
       "      <td>0.243392</td>\n",
       "      <td>0.184980</td>\n",
       "      <td>0.041176</td>\n",
       "      <td>0.028115</td>\n",
       "    </tr>\n",
       "    <tr>\n",
       "      <th>4</th>\n",
       "      <td>31000000</td>\n",
       "      <td>6500000</td>\n",
       "      <td>0</td>\n",
       "      <td>1</td>\n",
       "      <td>3800000</td>\n",
       "      <td>1</td>\n",
       "      <td>1</td>\n",
       "      <td>0.209677</td>\n",
       "      <td>0.173452</td>\n",
       "      <td>0.311523</td>\n",
       "      <td>0.161639</td>\n",
       "      <td>0.122581</td>\n",
       "      <td>0.021128</td>\n",
       "    </tr>\n",
       "    <tr>\n",
       "      <th>...</th>\n",
       "      <td>...</td>\n",
       "      <td>...</td>\n",
       "      <td>...</td>\n",
       "      <td>...</td>\n",
       "      <td>...</td>\n",
       "      <td>...</td>\n",
       "      <td>...</td>\n",
       "      <td>...</td>\n",
       "      <td>...</td>\n",
       "      <td>...</td>\n",
       "      <td>...</td>\n",
       "      <td>...</td>\n",
       "      <td>...</td>\n",
       "    </tr>\n",
       "    <tr>\n",
       "      <th>2664</th>\n",
       "      <td>29330000</td>\n",
       "      <td>15640000</td>\n",
       "      <td>2</td>\n",
       "      <td>1</td>\n",
       "      <td>0</td>\n",
       "      <td>0</td>\n",
       "      <td>1</td>\n",
       "      <td>0.533242</td>\n",
       "      <td>0.055176</td>\n",
       "      <td>0.177727</td>\n",
       "      <td>0.221468</td>\n",
       "      <td>0.000000</td>\n",
       "      <td>0.010000</td>\n",
       "    </tr>\n",
       "    <tr>\n",
       "      <th>2665</th>\n",
       "      <td>26820000</td>\n",
       "      <td>16180000</td>\n",
       "      <td>2</td>\n",
       "      <td>0</td>\n",
       "      <td>0</td>\n",
       "      <td>0</td>\n",
       "      <td>1</td>\n",
       "      <td>0.603281</td>\n",
       "      <td>0.070178</td>\n",
       "      <td>0.154418</td>\n",
       "      <td>0.154034</td>\n",
       "      <td>0.000000</td>\n",
       "      <td>0.020000</td>\n",
       "    </tr>\n",
       "    <tr>\n",
       "      <th>2666</th>\n",
       "      <td>27730000</td>\n",
       "      <td>16530000</td>\n",
       "      <td>2</td>\n",
       "      <td>0</td>\n",
       "      <td>0</td>\n",
       "      <td>0</td>\n",
       "      <td>1</td>\n",
       "      <td>0.596105</td>\n",
       "      <td>0.038596</td>\n",
       "      <td>0.180788</td>\n",
       "      <td>0.174285</td>\n",
       "      <td>0.000000</td>\n",
       "      <td>0.010000</td>\n",
       "    </tr>\n",
       "    <tr>\n",
       "      <th>2667</th>\n",
       "      <td>28950000</td>\n",
       "      <td>16910000</td>\n",
       "      <td>2</td>\n",
       "      <td>0</td>\n",
       "      <td>0</td>\n",
       "      <td>0</td>\n",
       "      <td>1</td>\n",
       "      <td>0.584111</td>\n",
       "      <td>0.026787</td>\n",
       "      <td>0.162555</td>\n",
       "      <td>0.159409</td>\n",
       "      <td>0.000000</td>\n",
       "      <td>0.070000</td>\n",
       "    </tr>\n",
       "    <tr>\n",
       "      <th>2668</th>\n",
       "      <td>26450000</td>\n",
       "      <td>17460000</td>\n",
       "      <td>2</td>\n",
       "      <td>0</td>\n",
       "      <td>0</td>\n",
       "      <td>0</td>\n",
       "      <td>1</td>\n",
       "      <td>0.660113</td>\n",
       "      <td>0.005339</td>\n",
       "      <td>0.153048</td>\n",
       "      <td>0.169862</td>\n",
       "      <td>0.000000</td>\n",
       "      <td>0.010000</td>\n",
       "    </tr>\n",
       "  </tbody>\n",
       "</table>\n",
       "<p>2669 rows × 13 columns</p>\n",
       "</div>"
      ],
      "text/plain": [
       "      thu nhập   cố định  nhu cầu  giáo dục  thanh toán nợ  tiết kiệm  \\\n",
       "0     31100000   7600000        0         0        2500000          1   \n",
       "1     32800000  13100000        0         0              0          1   \n",
       "2     33000000  11200000        0         1              0          1   \n",
       "3     34000000  10400000        0         1        1400000          1   \n",
       "4     31000000   6500000        0         1        3800000          1   \n",
       "...        ...       ...      ...       ...            ...        ...   \n",
       "2664  29330000  15640000        2         1              0          0   \n",
       "2665  26820000  16180000        2         0              0          0   \n",
       "2666  27730000  16530000        2         0              0          0   \n",
       "2667  28950000  16910000        2         0              0          0   \n",
       "2668  26450000  17460000        2         0              0          0   \n",
       "\n",
       "      bản thân         a         b         c         d         e         f  \n",
       "0            1  0.244373  0.167837  0.258189  0.185919  0.080386  0.063296  \n",
       "1            0  0.399390  0.178209  0.200063  0.192749  0.000000  0.029588  \n",
       "2            1  0.339394  0.147579  0.246960  0.170593  0.000000  0.095475  \n",
       "3            1  0.305882  0.196455  0.243392  0.184980  0.041176  0.028115  \n",
       "4            1  0.209677  0.173452  0.311523  0.161639  0.122581  0.021128  \n",
       "...        ...       ...       ...       ...       ...       ...       ...  \n",
       "2664         1  0.533242  0.055176  0.177727  0.221468  0.000000  0.010000  \n",
       "2665         1  0.603281  0.070178  0.154418  0.154034  0.000000  0.020000  \n",
       "2666         1  0.596105  0.038596  0.180788  0.174285  0.000000  0.010000  \n",
       "2667         1  0.584111  0.026787  0.162555  0.159409  0.000000  0.070000  \n",
       "2668         1  0.660113  0.005339  0.153048  0.169862  0.000000  0.010000  \n",
       "\n",
       "[2669 rows x 13 columns]"
      ]
     },
     "execution_count": 63,
     "metadata": {},
     "output_type": "execute_result"
    }
   ],
   "source": [
    "data = pd.read_csv(\"data.csv\")\n",
    "data"
   ]
  },
  {
   "cell_type": "code",
   "execution_count": 64,
   "metadata": {},
   "outputs": [
    {
     "data": {
      "text/plain": [
       "thu nhập         0\n",
       "cố định          0\n",
       "nhu cầu          0\n",
       "giáo dục         0\n",
       "thanh toán nợ    0\n",
       "tiết kiệm        0\n",
       "bản thân         0\n",
       "a                0\n",
       "b                0\n",
       "c                0\n",
       "d                0\n",
       "e                0\n",
       "f                0\n",
       "dtype: int64"
      ]
     },
     "execution_count": 64,
     "metadata": {},
     "output_type": "execute_result"
    }
   ],
   "source": [
    "data.isnull().sum()"
   ]
  },
  {
   "cell_type": "code",
   "execution_count": 65,
   "metadata": {},
   "outputs": [
    {
     "name": "stdout",
     "output_type": "stream",
     "text": [
      "[[3.110e+07 7.600e+06 0.000e+00 ... 2.500e+06 1.000e+00 1.000e+00]\n",
      " [3.280e+07 1.310e+07 0.000e+00 ... 0.000e+00 1.000e+00 0.000e+00]\n",
      " [3.300e+07 1.120e+07 0.000e+00 ... 0.000e+00 1.000e+00 1.000e+00]\n",
      " ...\n",
      " [2.773e+07 1.653e+07 2.000e+00 ... 0.000e+00 0.000e+00 1.000e+00]\n",
      " [2.895e+07 1.691e+07 2.000e+00 ... 0.000e+00 0.000e+00 1.000e+00]\n",
      " [2.645e+07 1.746e+07 2.000e+00 ... 0.000e+00 0.000e+00 1.000e+00]]\n",
      "[[0.24437299 0.16783652 0.25818948 0.18591881 0.08038585 0.06329635]\n",
      " [0.39939024 0.17820915 0.20006306 0.1927493  0.         0.02958825]\n",
      " [0.33939394 0.14757885 0.24695972 0.17059292 0.         0.09547457]\n",
      " ...\n",
      " [0.5961053  0.03859579 0.18078764 0.17428451 0.         0.01      ]\n",
      " [0.58411054 0.02678687 0.16255465 0.15940921 0.         0.07      ]\n",
      " [0.66011342 0.0053385  0.15304779 0.16986224 0.         0.01      ]]\n"
     ]
    }
   ],
   "source": [
    "X = np.array(data)[:,0:7]\n",
    "Y = np.array(data)[:,7:13]\n",
    "print(X)\n",
    "print(Y)"
   ]
  },
  {
   "cell_type": "code",
   "execution_count": 66,
   "metadata": {},
   "outputs": [
    {
     "name": "stdout",
     "output_type": "stream",
     "text": [
      "X_train:  (2135, 7)\n",
      "X_test:  (534, 7)\n",
      "Y_train:  (2135, 6)\n",
      "Y_test:  (534, 6)\n"
     ]
    }
   ],
   "source": [
    "from sklearn.model_selection import train_test_split\n",
    "X_train, X_test, y_train, y_test = train_test_split(X, Y, test_size=0.2, random_state=42)\n",
    "print(\"X_train: \", X_train.shape)\n",
    "print(\"X_test: \", X_test.shape)\n",
    "print(\"Y_train: \",y_train.shape)\n",
    "print(\"Y_test: \", y_test.shape)\n"
   ]
  },
  {
   "cell_type": "code",
   "execution_count": 67,
   "metadata": {},
   "outputs": [
    {
     "name": "stdout",
     "output_type": "stream",
     "text": [
      "                      0             1         2         3             4  \\\n",
      "Mean       2.525814e+07  9.793578e+06  0.985948  0.565808  8.371899e+05   \n",
      "Median     2.545000e+07  9.290000e+06  1.000000  1.000000  0.000000e+00   \n",
      "Std Dev    8.652026e+06  3.379323e+06  0.811388  0.495650  2.073430e+06   \n",
      "Min Value  1.003000e+07  4.160000e+06  0.000000  0.000000  0.000000e+00   \n",
      "Max Value  4.000000e+07  1.993000e+07  2.000000  1.000000  1.300000e+07   \n",
      "\n",
      "                  5             6  \n",
      "Mean       0.622951  5.573774e+05  \n",
      "Median     1.000000  1.000000e+00  \n",
      "Std Dev    0.484647  1.195762e+06  \n",
      "Min Value  0.000000  0.000000e+00  \n",
      "Max Value  1.000000  6.000000e+06  \n"
     ]
    }
   ],
   "source": [
    "# Tính các giá trị thống kê cơ bản\n",
    "mean = np.mean(X_train, axis=0)\n",
    "median = np.median(X_train, axis=0)\n",
    "std_dev = np.std(X_train, axis=0)\n",
    "min_val = np.min(X_train, axis=0)\n",
    "max_val = np.max(X_train, axis=0)\n",
    "\n",
    "# Tạo DataFrame từ các giá trị thống kê\n",
    "statics_df = pd.DataFrame({\n",
    "    'Mean': mean,\n",
    "    'Median': median,\n",
    "    'Std Dev': std_dev,\n",
    "    'Min Value': min_val,\n",
    "    'Max Value': max_val\n",
    "})\n",
    "\n",
    "# Xếp chúng thành các hàng của các cột\n",
    "statics_transpose = statics_df.transpose()\n",
    "\n",
    "# In DataFrame đã xếp\n",
    "print(statics_transpose)"
   ]
  },
  {
   "cell_type": "code",
   "execution_count": 68,
   "metadata": {},
   "outputs": [],
   "source": [
    "from sklearn.preprocessing import MinMaxScaler\n",
    "from sklearn.preprocessing import StandardScaler\n",
    "def ScalerData(data):\n",
    "    scaler = MinMaxScaler()\n",
    "    return scaler.fit_transform(data)"
   ]
  },
  {
   "cell_type": "code",
   "execution_count": 69,
   "metadata": {},
   "outputs": [
    {
     "name": "stdout",
     "output_type": "stream",
     "text": [
      "[[1.13113113e-01 1.49651237e-01 0.00000000e+00 ... 7.69230769e-08\n",
      "  0.00000000e+00 0.00000000e+00]\n",
      " [5.25191859e-01 4.52758402e-01 5.00000000e-01 ... 7.69230769e-02\n",
      "  1.00000000e+00 0.00000000e+00]\n",
      " [9.46613280e-01 3.51299937e-01 0.00000000e+00 ... 4.07692308e-01\n",
      "  1.00000000e+00 0.00000000e+00]\n",
      " ...\n",
      " [1.22122122e-01 1.38871275e-01 5.00000000e-01 ... 7.69230769e-08\n",
      "  1.00000000e+00 0.00000000e+00]\n",
      " [8.24157491e-02 1.43944198e-01 1.00000000e+00 ... 0.00000000e+00\n",
      "  1.00000000e+00 0.00000000e+00]\n",
      " [9.79979980e-01 7.69816107e-01 1.00000000e+00 ... 0.00000000e+00\n",
      "  0.00000000e+00 0.00000000e+00]]\n",
      "[[7.86381842e-01 8.94039735e-02 5.00000000e-01 ... 0.00000000e+00\n",
      "  1.00000000e+00 1.66666667e-07]\n",
      " [4.97663551e-01 9.13907285e-02 0.00000000e+00 ... 5.98290598e-01\n",
      "  1.00000000e+00 0.00000000e+00]\n",
      " [3.92523364e-01 1.80794702e-01 0.00000000e+00 ... 5.12820513e-01\n",
      "  1.00000000e+00 0.00000000e+00]\n",
      " ...\n",
      " [8.33110814e-01 5.19867550e-01 0.00000000e+00 ... 0.00000000e+00\n",
      "  1.00000000e+00 1.66666667e-07]\n",
      " [1.30173565e-01 2.31788079e-01 1.00000000e+00 ... 8.54700855e-08\n",
      "  1.00000000e+00 0.00000000e+00]\n",
      " [3.82843792e-01 2.88079470e-01 1.00000000e+00 ... 0.00000000e+00\n",
      "  0.00000000e+00 1.66666667e-07]]\n"
     ]
    }
   ],
   "source": [
    "X_train = ScalerData(X_train)\n",
    "X_test = ScalerData(X_test)\n",
    "print(X_train)\n",
    "print(X_test)"
   ]
  },
  {
   "cell_type": "code",
   "execution_count": 70,
   "metadata": {},
   "outputs": [
    {
     "name": "stderr",
     "output_type": "stream",
     "text": [
      "c:\\Users\\vuong\\AppData\\Local\\Programs\\Python\\Python312\\Lib\\site-packages\\keras\\src\\layers\\core\\dense.py:86: UserWarning: Do not pass an `input_shape`/`input_dim` argument to a layer. When using Sequential models, prefer using an `Input(shape)` object as the first layer in the model instead.\n",
      "  super().__init__(activity_regularizer=activity_regularizer, **kwargs)\n"
     ]
    },
    {
     "data": {
      "text/html": [
       "<pre style=\"white-space:pre;overflow-x:auto;line-height:normal;font-family:Menlo,'DejaVu Sans Mono',consolas,'Courier New',monospace\"><span style=\"font-weight: bold\">Model: \"sequential_5\"</span>\n",
       "</pre>\n"
      ],
      "text/plain": [
       "\u001b[1mModel: \"sequential_5\"\u001b[0m\n"
      ]
     },
     "metadata": {},
     "output_type": "display_data"
    },
    {
     "data": {
      "text/html": [
       "<pre style=\"white-space:pre;overflow-x:auto;line-height:normal;font-family:Menlo,'DejaVu Sans Mono',consolas,'Courier New',monospace\">┏━━━━━━━━━━━━━━━━━━━━━━━━━━━━━━━━━┳━━━━━━━━━━━━━━━━━━━━━━━━┳━━━━━━━━━━━━━━━┓\n",
       "┃<span style=\"font-weight: bold\"> Layer (type)                    </span>┃<span style=\"font-weight: bold\"> Output Shape           </span>┃<span style=\"font-weight: bold\">       Param # </span>┃\n",
       "┡━━━━━━━━━━━━━━━━━━━━━━━━━━━━━━━━━╇━━━━━━━━━━━━━━━━━━━━━━━━╇━━━━━━━━━━━━━━━┩\n",
       "│ dense_20 (<span style=\"color: #0087ff; text-decoration-color: #0087ff\">Dense</span>)                │ (<span style=\"color: #00d7ff; text-decoration-color: #00d7ff\">None</span>, <span style=\"color: #00af00; text-decoration-color: #00af00\">64</span>)             │           <span style=\"color: #00af00; text-decoration-color: #00af00\">512</span> │\n",
       "├─────────────────────────────────┼────────────────────────┼───────────────┤\n",
       "│ dense_21 (<span style=\"color: #0087ff; text-decoration-color: #0087ff\">Dense</span>)                │ (<span style=\"color: #00d7ff; text-decoration-color: #00d7ff\">None</span>, <span style=\"color: #00af00; text-decoration-color: #00af00\">128</span>)            │         <span style=\"color: #00af00; text-decoration-color: #00af00\">8,320</span> │\n",
       "├─────────────────────────────────┼────────────────────────┼───────────────┤\n",
       "│ dropout_10 (<span style=\"color: #0087ff; text-decoration-color: #0087ff\">Dropout</span>)            │ (<span style=\"color: #00d7ff; text-decoration-color: #00d7ff\">None</span>, <span style=\"color: #00af00; text-decoration-color: #00af00\">128</span>)            │             <span style=\"color: #00af00; text-decoration-color: #00af00\">0</span> │\n",
       "├─────────────────────────────────┼────────────────────────┼───────────────┤\n",
       "│ dense_22 (<span style=\"color: #0087ff; text-decoration-color: #0087ff\">Dense</span>)                │ (<span style=\"color: #00d7ff; text-decoration-color: #00d7ff\">None</span>, <span style=\"color: #00af00; text-decoration-color: #00af00\">128</span>)            │        <span style=\"color: #00af00; text-decoration-color: #00af00\">16,512</span> │\n",
       "├─────────────────────────────────┼────────────────────────┼───────────────┤\n",
       "│ dropout_11 (<span style=\"color: #0087ff; text-decoration-color: #0087ff\">Dropout</span>)            │ (<span style=\"color: #00d7ff; text-decoration-color: #00d7ff\">None</span>, <span style=\"color: #00af00; text-decoration-color: #00af00\">128</span>)            │             <span style=\"color: #00af00; text-decoration-color: #00af00\">0</span> │\n",
       "├─────────────────────────────────┼────────────────────────┼───────────────┤\n",
       "│ dense_23 (<span style=\"color: #0087ff; text-decoration-color: #0087ff\">Dense</span>)                │ (<span style=\"color: #00d7ff; text-decoration-color: #00d7ff\">None</span>, <span style=\"color: #00af00; text-decoration-color: #00af00\">6</span>)              │           <span style=\"color: #00af00; text-decoration-color: #00af00\">774</span> │\n",
       "└─────────────────────────────────┴────────────────────────┴───────────────┘\n",
       "</pre>\n"
      ],
      "text/plain": [
       "┏━━━━━━━━━━━━━━━━━━━━━━━━━━━━━━━━━┳━━━━━━━━━━━━━━━━━━━━━━━━┳━━━━━━━━━━━━━━━┓\n",
       "┃\u001b[1m \u001b[0m\u001b[1mLayer (type)                   \u001b[0m\u001b[1m \u001b[0m┃\u001b[1m \u001b[0m\u001b[1mOutput Shape          \u001b[0m\u001b[1m \u001b[0m┃\u001b[1m \u001b[0m\u001b[1m      Param #\u001b[0m\u001b[1m \u001b[0m┃\n",
       "┡━━━━━━━━━━━━━━━━━━━━━━━━━━━━━━━━━╇━━━━━━━━━━━━━━━━━━━━━━━━╇━━━━━━━━━━━━━━━┩\n",
       "│ dense_20 (\u001b[38;5;33mDense\u001b[0m)                │ (\u001b[38;5;45mNone\u001b[0m, \u001b[38;5;34m64\u001b[0m)             │           \u001b[38;5;34m512\u001b[0m │\n",
       "├─────────────────────────────────┼────────────────────────┼───────────────┤\n",
       "│ dense_21 (\u001b[38;5;33mDense\u001b[0m)                │ (\u001b[38;5;45mNone\u001b[0m, \u001b[38;5;34m128\u001b[0m)            │         \u001b[38;5;34m8,320\u001b[0m │\n",
       "├─────────────────────────────────┼────────────────────────┼───────────────┤\n",
       "│ dropout_10 (\u001b[38;5;33mDropout\u001b[0m)            │ (\u001b[38;5;45mNone\u001b[0m, \u001b[38;5;34m128\u001b[0m)            │             \u001b[38;5;34m0\u001b[0m │\n",
       "├─────────────────────────────────┼────────────────────────┼───────────────┤\n",
       "│ dense_22 (\u001b[38;5;33mDense\u001b[0m)                │ (\u001b[38;5;45mNone\u001b[0m, \u001b[38;5;34m128\u001b[0m)            │        \u001b[38;5;34m16,512\u001b[0m │\n",
       "├─────────────────────────────────┼────────────────────────┼───────────────┤\n",
       "│ dropout_11 (\u001b[38;5;33mDropout\u001b[0m)            │ (\u001b[38;5;45mNone\u001b[0m, \u001b[38;5;34m128\u001b[0m)            │             \u001b[38;5;34m0\u001b[0m │\n",
       "├─────────────────────────────────┼────────────────────────┼───────────────┤\n",
       "│ dense_23 (\u001b[38;5;33mDense\u001b[0m)                │ (\u001b[38;5;45mNone\u001b[0m, \u001b[38;5;34m6\u001b[0m)              │           \u001b[38;5;34m774\u001b[0m │\n",
       "└─────────────────────────────────┴────────────────────────┴───────────────┘\n"
      ]
     },
     "metadata": {},
     "output_type": "display_data"
    },
    {
     "data": {
      "text/html": [
       "<pre style=\"white-space:pre;overflow-x:auto;line-height:normal;font-family:Menlo,'DejaVu Sans Mono',consolas,'Courier New',monospace\"><span style=\"font-weight: bold\"> Total params: </span><span style=\"color: #00af00; text-decoration-color: #00af00\">26,118</span> (102.02 KB)\n",
       "</pre>\n"
      ],
      "text/plain": [
       "\u001b[1m Total params: \u001b[0m\u001b[38;5;34m26,118\u001b[0m (102.02 KB)\n"
      ]
     },
     "metadata": {},
     "output_type": "display_data"
    },
    {
     "data": {
      "text/html": [
       "<pre style=\"white-space:pre;overflow-x:auto;line-height:normal;font-family:Menlo,'DejaVu Sans Mono',consolas,'Courier New',monospace\"><span style=\"font-weight: bold\"> Trainable params: </span><span style=\"color: #00af00; text-decoration-color: #00af00\">26,118</span> (102.02 KB)\n",
       "</pre>\n"
      ],
      "text/plain": [
       "\u001b[1m Trainable params: \u001b[0m\u001b[38;5;34m26,118\u001b[0m (102.02 KB)\n"
      ]
     },
     "metadata": {},
     "output_type": "display_data"
    },
    {
     "data": {
      "text/html": [
       "<pre style=\"white-space:pre;overflow-x:auto;line-height:normal;font-family:Menlo,'DejaVu Sans Mono',consolas,'Courier New',monospace\"><span style=\"font-weight: bold\"> Non-trainable params: </span><span style=\"color: #00af00; text-decoration-color: #00af00\">0</span> (0.00 B)\n",
       "</pre>\n"
      ],
      "text/plain": [
       "\u001b[1m Non-trainable params: \u001b[0m\u001b[38;5;34m0\u001b[0m (0.00 B)\n"
      ]
     },
     "metadata": {},
     "output_type": "display_data"
    }
   ],
   "source": [
    "from keras.models import Sequential\n",
    "from keras.layers import Dense, Dropout\n",
    "from keras.optimizers import SGD\n",
    "\n",
    "def define_model():\n",
    "    model = Sequential()\n",
    "    \n",
    "    # Layer 1\n",
    "    model.add(Dense(64, input_dim=7, activation='relu'))\n",
    "    \n",
    "    # Layer 2\n",
    "    model.add(Dense(128, activation='relu'))\n",
    "    \n",
    "    model.add(Dropout(0.2))\n",
    "    \n",
    "    # Layer 3\n",
    "    model.add(Dense(128, activation='relu'))\n",
    "    \n",
    "    model.add(Dropout(0.2))\n",
    "    \n",
    "    # Layer 4\n",
    "    model.add(Dense(6, activation='relu'))  \n",
    "    \n",
    "    model.compile(optimizer=\"adamax\", loss='mean_squared_error')\n",
    "    \n",
    "    return model\n",
    "\n",
    "model = define_model()\n",
    "model.summary()"
   ]
  },
  {
   "cell_type": "code",
   "execution_count": 71,
   "metadata": {},
   "outputs": [],
   "source": [
    "from sklearn.ensemble import RandomForestRegressor\n",
    "def define_model_2():\n",
    "    model = RandomForestRegressor(n_estimators=100, random_state=42)\n",
    "    return model"
   ]
  },
  {
   "cell_type": "code",
   "execution_count": 72,
   "metadata": {},
   "outputs": [],
   "source": [
    "import matplotlib.pyplot as plt\n",
    "\n",
    "def train_and_plot_loss():\n",
    "    model = define_model()\n",
    "    history = model.fit(X_train, y_train, epochs=64, batch_size=1, validation_split=0.2, shuffle=True ,verbose=1)\n",
    "    model.save('final_model.h5')\n",
    "    \n",
    "    # Lấy giá trị loss từ lịch sử huấn luyện\n",
    "    train_loss = history.history['loss']\n",
    "    val_loss = history.history['val_loss']\n",
    "    \n",
    "    # Vẽ biểu đồ loss của cả hai tập train và validation\n",
    "    epochs = range(1, len(train_loss) + 1)\n",
    "    plt.plot(epochs, train_loss, 'b', label='Training loss')  # Đường liên tục màu xanh\n",
    "    plt.plot(epochs, val_loss, 'r', label='Validation loss')  # Đường liên tục màu đỏ\n",
    "    plt.title('Training and validation loss')\n",
    "    plt.xlabel('Epochs')\n",
    "    plt.ylabel('Loss')\n",
    "    plt.legend()\n",
    "    plt.show()"
   ]
  },
  {
   "cell_type": "code",
   "execution_count": 73,
   "metadata": {},
   "outputs": [],
   "source": [
    "import joblib\n",
    "def train2():\n",
    "    model2 = define_model_2()\n",
    "    model2.fit(X_train, y_train)\n",
    "    joblib.dump(model2, 'random_forest_model.pkl')\n"
   ]
  },
  {
   "cell_type": "code",
   "execution_count": 74,
   "metadata": {},
   "outputs": [],
   "source": [
    "train2()"
   ]
  },
  {
   "cell_type": "code",
   "execution_count": 75,
   "metadata": {},
   "outputs": [
    {
     "name": "stdout",
     "output_type": "stream",
     "text": [
      "Epoch 1/64\n"
     ]
    },
    {
     "name": "stderr",
     "output_type": "stream",
     "text": [
      "c:\\Users\\vuong\\AppData\\Local\\Programs\\Python\\Python312\\Lib\\site-packages\\keras\\src\\layers\\core\\dense.py:86: UserWarning: Do not pass an `input_shape`/`input_dim` argument to a layer. When using Sequential models, prefer using an `Input(shape)` object as the first layer in the model instead.\n",
      "  super().__init__(activity_regularizer=activity_regularizer, **kwargs)\n"
     ]
    },
    {
     "name": "stdout",
     "output_type": "stream",
     "text": [
      "\u001b[1m1708/1708\u001b[0m \u001b[32m━━━━━━━━━━━━━━━━━━━━\u001b[0m\u001b[37m\u001b[0m \u001b[1m2s\u001b[0m 699us/step - loss: 0.0119 - val_loss: 0.0026\n",
      "Epoch 2/64\n",
      "\u001b[1m1708/1708\u001b[0m \u001b[32m━━━━━━━━━━━━━━━━━━━━\u001b[0m\u001b[37m\u001b[0m \u001b[1m1s\u001b[0m 649us/step - loss: 0.0032 - val_loss: 0.0016\n",
      "Epoch 3/64\n",
      "\u001b[1m1708/1708\u001b[0m \u001b[32m━━━━━━━━━━━━━━━━━━━━\u001b[0m\u001b[37m\u001b[0m \u001b[1m1s\u001b[0m 669us/step - loss: 0.0024 - val_loss: 0.0014\n",
      "Epoch 4/64\n",
      "\u001b[1m1708/1708\u001b[0m \u001b[32m━━━━━━━━━━━━━━━━━━━━\u001b[0m\u001b[37m\u001b[0m \u001b[1m1s\u001b[0m 665us/step - loss: 0.0019 - val_loss: 0.0013\n",
      "Epoch 5/64\n",
      "\u001b[1m1708/1708\u001b[0m \u001b[32m━━━━━━━━━━━━━━━━━━━━\u001b[0m\u001b[37m\u001b[0m \u001b[1m1s\u001b[0m 666us/step - loss: 0.0018 - val_loss: 0.0012\n",
      "Epoch 6/64\n",
      "\u001b[1m1708/1708\u001b[0m \u001b[32m━━━━━━━━━━━━━━━━━━━━\u001b[0m\u001b[37m\u001b[0m \u001b[1m1s\u001b[0m 673us/step - loss: 0.0016 - val_loss: 0.0012\n",
      "Epoch 7/64\n",
      "\u001b[1m1708/1708\u001b[0m \u001b[32m━━━━━━━━━━━━━━━━━━━━\u001b[0m\u001b[37m\u001b[0m \u001b[1m1s\u001b[0m 661us/step - loss: 0.0015 - val_loss: 0.0011\n",
      "Epoch 8/64\n",
      "\u001b[1m1708/1708\u001b[0m \u001b[32m━━━━━━━━━━━━━━━━━━━━\u001b[0m\u001b[37m\u001b[0m \u001b[1m1s\u001b[0m 671us/step - loss: 0.0015 - val_loss: 0.0011\n",
      "Epoch 9/64\n",
      "\u001b[1m1708/1708\u001b[0m \u001b[32m━━━━━━━━━━━━━━━━━━━━\u001b[0m\u001b[37m\u001b[0m \u001b[1m1s\u001b[0m 673us/step - loss: 0.0014 - val_loss: 0.0011\n",
      "Epoch 10/64\n",
      "\u001b[1m1708/1708\u001b[0m \u001b[32m━━━━━━━━━━━━━━━━━━━━\u001b[0m\u001b[37m\u001b[0m \u001b[1m1s\u001b[0m 669us/step - loss: 0.0013 - val_loss: 0.0010\n",
      "Epoch 11/64\n",
      "\u001b[1m1708/1708\u001b[0m \u001b[32m━━━━━━━━━━━━━━━━━━━━\u001b[0m\u001b[37m\u001b[0m \u001b[1m1s\u001b[0m 677us/step - loss: 0.0013 - val_loss: 0.0010\n",
      "Epoch 12/64\n",
      "\u001b[1m1708/1708\u001b[0m \u001b[32m━━━━━━━━━━━━━━━━━━━━\u001b[0m\u001b[37m\u001b[0m \u001b[1m1s\u001b[0m 674us/step - loss: 0.0013 - val_loss: 9.6310e-04\n",
      "Epoch 13/64\n",
      "\u001b[1m1708/1708\u001b[0m \u001b[32m━━━━━━━━━━━━━━━━━━━━\u001b[0m\u001b[37m\u001b[0m \u001b[1m1s\u001b[0m 665us/step - loss: 0.0012 - val_loss: 9.8272e-04\n",
      "Epoch 14/64\n",
      "\u001b[1m1708/1708\u001b[0m \u001b[32m━━━━━━━━━━━━━━━━━━━━\u001b[0m\u001b[37m\u001b[0m \u001b[1m1s\u001b[0m 670us/step - loss: 0.0011 - val_loss: 9.5070e-04\n",
      "Epoch 15/64\n",
      "\u001b[1m1708/1708\u001b[0m \u001b[32m━━━━━━━━━━━━━━━━━━━━\u001b[0m\u001b[37m\u001b[0m \u001b[1m1s\u001b[0m 665us/step - loss: 0.0012 - val_loss: 9.3254e-04\n",
      "Epoch 16/64\n",
      "\u001b[1m1708/1708\u001b[0m \u001b[32m━━━━━━━━━━━━━━━━━━━━\u001b[0m\u001b[37m\u001b[0m \u001b[1m1s\u001b[0m 658us/step - loss: 0.0012 - val_loss: 9.5382e-04\n",
      "Epoch 17/64\n",
      "\u001b[1m1708/1708\u001b[0m \u001b[32m━━━━━━━━━━━━━━━━━━━━\u001b[0m\u001b[37m\u001b[0m \u001b[1m1s\u001b[0m 659us/step - loss: 0.0012 - val_loss: 9.6151e-04\n",
      "Epoch 18/64\n",
      "\u001b[1m1708/1708\u001b[0m \u001b[32m━━━━━━━━━━━━━━━━━━━━\u001b[0m\u001b[37m\u001b[0m \u001b[1m1s\u001b[0m 661us/step - loss: 0.0012 - val_loss: 9.2496e-04\n",
      "Epoch 19/64\n",
      "\u001b[1m1708/1708\u001b[0m \u001b[32m━━━━━━━━━━━━━━━━━━━━\u001b[0m\u001b[37m\u001b[0m \u001b[1m1s\u001b[0m 657us/step - loss: 0.0011 - val_loss: 8.5347e-04\n",
      "Epoch 20/64\n",
      "\u001b[1m1708/1708\u001b[0m \u001b[32m━━━━━━━━━━━━━━━━━━━━\u001b[0m\u001b[37m\u001b[0m \u001b[1m1s\u001b[0m 733us/step - loss: 0.0011 - val_loss: 8.6749e-04\n",
      "Epoch 21/64\n",
      "\u001b[1m1708/1708\u001b[0m \u001b[32m━━━━━━━━━━━━━━━━━━━━\u001b[0m\u001b[37m\u001b[0m \u001b[1m1s\u001b[0m 702us/step - loss: 0.0011 - val_loss: 8.2224e-04\n",
      "Epoch 22/64\n",
      "\u001b[1m1708/1708\u001b[0m \u001b[32m━━━━━━━━━━━━━━━━━━━━\u001b[0m\u001b[37m\u001b[0m \u001b[1m1s\u001b[0m 665us/step - loss: 0.0011 - val_loss: 8.3771e-04\n",
      "Epoch 23/64\n",
      "\u001b[1m1708/1708\u001b[0m \u001b[32m━━━━━━━━━━━━━━━━━━━━\u001b[0m\u001b[37m\u001b[0m \u001b[1m1s\u001b[0m 656us/step - loss: 0.0011 - val_loss: 8.6241e-04\n",
      "Epoch 24/64\n",
      "\u001b[1m1708/1708\u001b[0m \u001b[32m━━━━━━━━━━━━━━━━━━━━\u001b[0m\u001b[37m\u001b[0m \u001b[1m1s\u001b[0m 667us/step - loss: 0.0010 - val_loss: 8.2319e-04\n",
      "Epoch 25/64\n",
      "\u001b[1m1708/1708\u001b[0m \u001b[32m━━━━━━━━━━━━━━━━━━━━\u001b[0m\u001b[37m\u001b[0m \u001b[1m1s\u001b[0m 663us/step - loss: 9.7872e-04 - val_loss: 8.6334e-04\n",
      "Epoch 26/64\n",
      "\u001b[1m1708/1708\u001b[0m \u001b[32m━━━━━━━━━━━━━━━━━━━━\u001b[0m\u001b[37m\u001b[0m \u001b[1m1s\u001b[0m 702us/step - loss: 0.0011 - val_loss: 8.4157e-04\n",
      "Epoch 27/64\n",
      "\u001b[1m1708/1708\u001b[0m \u001b[32m━━━━━━━━━━━━━━━━━━━━\u001b[0m\u001b[37m\u001b[0m \u001b[1m1s\u001b[0m 654us/step - loss: 0.0010 - val_loss: 7.9991e-04\n",
      "Epoch 28/64\n",
      "\u001b[1m1708/1708\u001b[0m \u001b[32m━━━━━━━━━━━━━━━━━━━━\u001b[0m\u001b[37m\u001b[0m \u001b[1m1s\u001b[0m 663us/step - loss: 0.0010 - val_loss: 8.4100e-04\n",
      "Epoch 29/64\n",
      "\u001b[1m1708/1708\u001b[0m \u001b[32m━━━━━━━━━━━━━━━━━━━━\u001b[0m\u001b[37m\u001b[0m \u001b[1m1s\u001b[0m 665us/step - loss: 0.0010 - val_loss: 7.8957e-04\n",
      "Epoch 30/64\n",
      "\u001b[1m1708/1708\u001b[0m \u001b[32m━━━━━━━━━━━━━━━━━━━━\u001b[0m\u001b[37m\u001b[0m \u001b[1m1s\u001b[0m 672us/step - loss: 0.0010 - val_loss: 8.1630e-04\n",
      "Epoch 31/64\n",
      "\u001b[1m1708/1708\u001b[0m \u001b[32m━━━━━━━━━━━━━━━━━━━━\u001b[0m\u001b[37m\u001b[0m \u001b[1m1s\u001b[0m 671us/step - loss: 9.9414e-04 - val_loss: 8.5486e-04\n",
      "Epoch 32/64\n",
      "\u001b[1m1708/1708\u001b[0m \u001b[32m━━━━━━━━━━━━━━━━━━━━\u001b[0m\u001b[37m\u001b[0m \u001b[1m1s\u001b[0m 673us/step - loss: 9.5701e-04 - val_loss: 8.1759e-04\n",
      "Epoch 33/64\n",
      "\u001b[1m1708/1708\u001b[0m \u001b[32m━━━━━━━━━━━━━━━━━━━━\u001b[0m\u001b[37m\u001b[0m \u001b[1m1s\u001b[0m 663us/step - loss: 9.8911e-04 - val_loss: 8.1080e-04\n",
      "Epoch 34/64\n",
      "\u001b[1m1708/1708\u001b[0m \u001b[32m━━━━━━━━━━━━━━━━━━━━\u001b[0m\u001b[37m\u001b[0m \u001b[1m1s\u001b[0m 674us/step - loss: 0.0010 - val_loss: 8.0356e-04\n",
      "Epoch 35/64\n",
      "\u001b[1m1708/1708\u001b[0m \u001b[32m━━━━━━━━━━━━━━━━━━━━\u001b[0m\u001b[37m\u001b[0m \u001b[1m1s\u001b[0m 657us/step - loss: 9.3012e-04 - val_loss: 8.3796e-04\n",
      "Epoch 36/64\n",
      "\u001b[1m1708/1708\u001b[0m \u001b[32m━━━━━━━━━━━━━━━━━━━━\u001b[0m\u001b[37m\u001b[0m \u001b[1m1s\u001b[0m 666us/step - loss: 0.0010 - val_loss: 7.9656e-04\n",
      "Epoch 37/64\n",
      "\u001b[1m1708/1708\u001b[0m \u001b[32m━━━━━━━━━━━━━━━━━━━━\u001b[0m\u001b[37m\u001b[0m \u001b[1m1s\u001b[0m 660us/step - loss: 9.8535e-04 - val_loss: 8.1385e-04\n",
      "Epoch 38/64\n",
      "\u001b[1m1708/1708\u001b[0m \u001b[32m━━━━━━━━━━━━━━━━━━━━\u001b[0m\u001b[37m\u001b[0m \u001b[1m1s\u001b[0m 667us/step - loss: 9.5066e-04 - val_loss: 8.0029e-04\n",
      "Epoch 39/64\n",
      "\u001b[1m1708/1708\u001b[0m \u001b[32m━━━━━━━━━━━━━━━━━━━━\u001b[0m\u001b[37m\u001b[0m \u001b[1m1s\u001b[0m 689us/step - loss: 9.2772e-04 - val_loss: 7.9885e-04\n",
      "Epoch 40/64\n",
      "\u001b[1m1708/1708\u001b[0m \u001b[32m━━━━━━━━━━━━━━━━━━━━\u001b[0m\u001b[37m\u001b[0m \u001b[1m1s\u001b[0m 668us/step - loss: 9.3809e-04 - val_loss: 8.0964e-04\n",
      "Epoch 41/64\n",
      "\u001b[1m1708/1708\u001b[0m \u001b[32m━━━━━━━━━━━━━━━━━━━━\u001b[0m\u001b[37m\u001b[0m \u001b[1m1s\u001b[0m 668us/step - loss: 9.5394e-04 - val_loss: 7.9570e-04\n",
      "Epoch 42/64\n",
      "\u001b[1m1708/1708\u001b[0m \u001b[32m━━━━━━━━━━━━━━━━━━━━\u001b[0m\u001b[37m\u001b[0m \u001b[1m1s\u001b[0m 660us/step - loss: 9.7172e-04 - val_loss: 7.9161e-04\n",
      "Epoch 43/64\n",
      "\u001b[1m1708/1708\u001b[0m \u001b[32m━━━━━━━━━━━━━━━━━━━━\u001b[0m\u001b[37m\u001b[0m \u001b[1m1s\u001b[0m 664us/step - loss: 9.7280e-04 - val_loss: 7.7595e-04\n",
      "Epoch 44/64\n",
      "\u001b[1m1708/1708\u001b[0m \u001b[32m━━━━━━━━━━━━━━━━━━━━\u001b[0m\u001b[37m\u001b[0m \u001b[1m1s\u001b[0m 661us/step - loss: 9.4632e-04 - val_loss: 7.9615e-04\n",
      "Epoch 45/64\n",
      "\u001b[1m1708/1708\u001b[0m \u001b[32m━━━━━━━━━━━━━━━━━━━━\u001b[0m\u001b[37m\u001b[0m \u001b[1m1s\u001b[0m 663us/step - loss: 8.8704e-04 - val_loss: 8.4695e-04\n",
      "Epoch 46/64\n",
      "\u001b[1m1708/1708\u001b[0m \u001b[32m━━━━━━━━━━━━━━━━━━━━\u001b[0m\u001b[37m\u001b[0m \u001b[1m1s\u001b[0m 658us/step - loss: 9.3499e-04 - val_loss: 7.8935e-04\n",
      "Epoch 47/64\n",
      "\u001b[1m1708/1708\u001b[0m \u001b[32m━━━━━━━━━━━━━━━━━━━━\u001b[0m\u001b[37m\u001b[0m \u001b[1m1s\u001b[0m 659us/step - loss: 9.6353e-04 - val_loss: 7.7411e-04\n",
      "Epoch 48/64\n",
      "\u001b[1m1708/1708\u001b[0m \u001b[32m━━━━━━━━━━━━━━━━━━━━\u001b[0m\u001b[37m\u001b[0m \u001b[1m1s\u001b[0m 665us/step - loss: 9.1614e-04 - val_loss: 7.8367e-04\n",
      "Epoch 49/64\n",
      "\u001b[1m1708/1708\u001b[0m \u001b[32m━━━━━━━━━━━━━━━━━━━━\u001b[0m\u001b[37m\u001b[0m \u001b[1m1s\u001b[0m 659us/step - loss: 8.8947e-04 - val_loss: 7.7136e-04\n",
      "Epoch 50/64\n",
      "\u001b[1m1708/1708\u001b[0m \u001b[32m━━━━━━━━━━━━━━━━━━━━\u001b[0m\u001b[37m\u001b[0m \u001b[1m1s\u001b[0m 662us/step - loss: 9.5772e-04 - val_loss: 7.7895e-04\n",
      "Epoch 51/64\n",
      "\u001b[1m1708/1708\u001b[0m \u001b[32m━━━━━━━━━━━━━━━━━━━━\u001b[0m\u001b[37m\u001b[0m \u001b[1m1s\u001b[0m 658us/step - loss: 9.9814e-04 - val_loss: 7.9711e-04\n",
      "Epoch 52/64\n",
      "\u001b[1m1708/1708\u001b[0m \u001b[32m━━━━━━━━━━━━━━━━━━━━\u001b[0m\u001b[37m\u001b[0m \u001b[1m1s\u001b[0m 665us/step - loss: 9.0582e-04 - val_loss: 7.7375e-04\n",
      "Epoch 53/64\n",
      "\u001b[1m1708/1708\u001b[0m \u001b[32m━━━━━━━━━━━━━━━━━━━━\u001b[0m\u001b[37m\u001b[0m \u001b[1m1s\u001b[0m 658us/step - loss: 9.3944e-04 - val_loss: 7.6546e-04\n",
      "Epoch 54/64\n",
      "\u001b[1m1708/1708\u001b[0m \u001b[32m━━━━━━━━━━━━━━━━━━━━\u001b[0m\u001b[37m\u001b[0m \u001b[1m1s\u001b[0m 660us/step - loss: 9.1715e-04 - val_loss: 7.8117e-04\n",
      "Epoch 55/64\n",
      "\u001b[1m1708/1708\u001b[0m \u001b[32m━━━━━━━━━━━━━━━━━━━━\u001b[0m\u001b[37m\u001b[0m \u001b[1m1s\u001b[0m 670us/step - loss: 9.4952e-04 - val_loss: 7.6670e-04\n",
      "Epoch 56/64\n",
      "\u001b[1m1708/1708\u001b[0m \u001b[32m━━━━━━━━━━━━━━━━━━━━\u001b[0m\u001b[37m\u001b[0m \u001b[1m1s\u001b[0m 655us/step - loss: 9.2891e-04 - val_loss: 7.7681e-04\n",
      "Epoch 57/64\n",
      "\u001b[1m1708/1708\u001b[0m \u001b[32m━━━━━━━━━━━━━━━━━━━━\u001b[0m\u001b[37m\u001b[0m \u001b[1m1s\u001b[0m 681us/step - loss: 9.1268e-04 - val_loss: 7.6765e-04\n",
      "Epoch 58/64\n",
      "\u001b[1m1708/1708\u001b[0m \u001b[32m━━━━━━━━━━━━━━━━━━━━\u001b[0m\u001b[37m\u001b[0m \u001b[1m1s\u001b[0m 652us/step - loss: 9.0074e-04 - val_loss: 7.6182e-04\n",
      "Epoch 59/64\n",
      "\u001b[1m1708/1708\u001b[0m \u001b[32m━━━━━━━━━━━━━━━━━━━━\u001b[0m\u001b[37m\u001b[0m \u001b[1m1s\u001b[0m 684us/step - loss: 8.9341e-04 - val_loss: 7.6199e-04\n",
      "Epoch 60/64\n",
      "\u001b[1m1708/1708\u001b[0m \u001b[32m━━━━━━━━━━━━━━━━━━━━\u001b[0m\u001b[37m\u001b[0m \u001b[1m1s\u001b[0m 665us/step - loss: 9.0618e-04 - val_loss: 7.8319e-04\n",
      "Epoch 61/64\n",
      "\u001b[1m1708/1708\u001b[0m \u001b[32m━━━━━━━━━━━━━━━━━━━━\u001b[0m\u001b[37m\u001b[0m \u001b[1m1s\u001b[0m 659us/step - loss: 9.4416e-04 - val_loss: 7.5113e-04\n",
      "Epoch 62/64\n",
      "\u001b[1m1708/1708\u001b[0m \u001b[32m━━━━━━━━━━━━━━━━━━━━\u001b[0m\u001b[37m\u001b[0m \u001b[1m1s\u001b[0m 666us/step - loss: 9.0530e-04 - val_loss: 8.0293e-04\n",
      "Epoch 63/64\n",
      "\u001b[1m1708/1708\u001b[0m \u001b[32m━━━━━━━━━━━━━━━━━━━━\u001b[0m\u001b[37m\u001b[0m \u001b[1m1s\u001b[0m 666us/step - loss: 9.2332e-04 - val_loss: 7.7195e-04\n",
      "Epoch 64/64\n",
      "\u001b[1m1708/1708\u001b[0m \u001b[32m━━━━━━━━━━━━━━━━━━━━\u001b[0m\u001b[37m\u001b[0m \u001b[1m1s\u001b[0m 672us/step - loss: 9.2161e-04 - val_loss: 7.9960e-04\n"
     ]
    },
    {
     "name": "stderr",
     "output_type": "stream",
     "text": [
      "WARNING:absl:You are saving your model as an HDF5 file via `model.save()` or `keras.saving.save_model(model)`. This file format is considered legacy. We recommend using instead the native Keras format, e.g. `model.save('my_model.keras')` or `keras.saving.save_model(model, 'my_model.keras')`. \n"
     ]
    },
    {
     "data": {
      "image/png": "[encoded data removed]",
      "text/plain": [
       "<Figure size 640x480 with 1 Axes>"
      ]
     },
     "metadata": {},
     "output_type": "display_data"
    }
   ],
   "source": [
    "train_and_plot_loss()"
   ]
  },
  {
   "cell_type": "code",
   "execution_count": 78,
   "metadata": {},
   "outputs": [
    {
     "name": "stderr",
     "output_type": "stream",
     "text": [
      "WARNING:absl:Compiled the loaded model, but the compiled metrics have yet to be built. `model.compile_metrics` will be empty until you train or evaluate the model.\n"
     ]
    },
    {
     "name": "stdout",
     "output_type": "stream",
     "text": [
      "\u001b[1m17/17\u001b[0m \u001b[32m━━━━━━━━━━━━━━━━━━━━\u001b[0m\u001b[37m\u001b[0m \u001b[1m0s\u001b[0m 2ms/step \n",
      "R-square Neural Network:  0.8237761846442678\n",
      "R-square Random Forest:  0.8227716396694739\n"
     ]
    }
   ],
   "source": [
    "import sys\n",
    "import os\n",
    "from sklearn.metrics import r2_score\n",
    "\n",
    "# Load model\n",
    "model = load_model(\"final_model.h5\")\n",
    "model2 = joblib.load('random_forest_model.pkl')\n",
    "\n",
    "# Tính toán R-squared\n",
    "predict_1 = model.predict(X_test)\n",
    "r_squared_1 = r2_score(y_test, predict_1)\n",
    "\n",
    "predict_2 = model2.predict(X_test)\n",
    "r_squared_2 = r2_score(y_test, predict_2)\n",
    "\n",
    "print(\"R-square Neural Network: \", r_squared_1)\n",
    "print(\"R-square Random Forest: \", r_squared_2)\n"
   ]
  }
 ],
 "metadata": {
  "kernelspec": {
   "display_name": "gpu_onion",
   "language": "python",
   "name": "python3"
  },
  "language_info": {
   "codemirror_mode": {
    "name": "ipython",
    "version": 3
   },
   "file_extension": ".py",
   "mimetype": "text/x-python",
   "name": "python",
   "nbconvert_exporter": "python",
   "pygments_lexer": "ipython3",
   "version": "3.12.3"
  }
 },
 "nbformat": 4,
 "nbformat_minor": 2
}
